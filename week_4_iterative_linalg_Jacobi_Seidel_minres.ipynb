{
 "cells": [
  {
   "cell_type": "markdown",
   "metadata": {},
   "source": [
    "# Simple iteration for systems of linear equations"
   ]
  },
  {
   "cell_type": "markdown",
   "metadata": {},
   "source": [
    "First, generate a random diagonally dominant matrix, for testing."
   ]
  },
  {
   "cell_type": "code",
   "execution_count": 2,
   "metadata": {},
   "outputs": [],
   "source": [
    "import numpy as np\n",
    "rndm = np.random.RandomState(1234)\n",
    "\n",
    "n = 10\n",
    "A = rndm.uniform(size=(n, n)) + np.diagflat([15]*n)\n",
    "b = rndm.uniform(size=n)"
   ]
  },
  {
   "cell_type": "markdown",
   "metadata": {},
   "source": [
    "# I.  Jacobi iteration\n",
    "\n",
    "Given\n",
    "\n",
    "$$\n",
    "A x = b\n",
    "$$\n",
    "\n",
    "separate the diagonal part $D$,\n",
    "\n",
    "$$ A = D + (A - D) $$\n",
    "\n",
    "and write\n",
    "\n",
    "$$\n",
    "x = D^{-1} (D - A) x + D^{-1} b\\;.\n",
    "$$\n",
    "\n",
    "Then iterate\n",
    "\n",
    "$$\n",
    "x_{n + 1} = B x_{n} + c\\;,\n",
    "$$\n",
    "\n",
    "where \n",
    "\n",
    "$$\n",
    "B = D^{-1} (A - D) \\qquad \\text{and} \\qquad c = D^{-1} b\n",
    "$$\n"
   ]
  },
  {
   "cell_type": "markdown",
   "metadata": {},
   "source": [
    "Let's construct the matrix and the r.h.s. for the Jacobi iteration"
   ]
  },
  {
   "cell_type": "code",
   "execution_count": 3,
   "metadata": {},
   "outputs": [],
   "source": [
    "diag_1d = np.diag(A)\n",
    "\n",
    "B = -A.copy()\n",
    "np.fill_diagonal(B, 0)\n",
    "\n",
    "D = np.diag(diag_1d)\n",
    "invD = np.diag(1./diag_1d)\n",
    "BB = invD @ B \n",
    "c = invD @ b"
   ]
  },
  {
   "cell_type": "code",
   "execution_count": 4,
   "metadata": {},
   "outputs": [],
   "source": [
    "# sanity checks\n",
    "from numpy.testing import assert_allclose\n",
    "\n",
    "assert_allclose(-B + D, A)\n",
    "\n",
    "\n",
    "# xx is a \"ground truth\" solution, compute it using a direct method\n",
    "xx = np.linalg.solve(A, b)\n",
    "\n",
    "np.testing.assert_allclose(A@xx, b)\n",
    "np.testing.assert_allclose(D@xx, B@xx + b)\n",
    "np.testing.assert_allclose(xx, BB@xx + c)"
   ]
  },
  {
   "cell_type": "markdown",
   "metadata": {},
   "source": [
    "Check that $\\| B\\| \\leqslant 1$:"
   ]
  },
  {
   "cell_type": "code",
   "execution_count": 5,
   "metadata": {},
   "outputs": [
    {
     "data": {
      "text/plain": [
       "0.36436161983015336"
      ]
     },
     "execution_count": 5,
     "metadata": {},
     "output_type": "execute_result"
    }
   ],
   "source": [
    "np.linalg.norm(BB)"
   ]
  },
  {
   "cell_type": "markdown",
   "metadata": {},
   "source": [
    "### Do the Jacobi iteration"
   ]
  },
  {
   "cell_type": "code",
   "execution_count": 6,
   "metadata": {},
   "outputs": [],
   "source": [
    "n_iter = 50\n",
    "\n",
    "x0 = np.ones(n)\n",
    "x = x0\n",
    "for _ in range(n_iter):\n",
    "    x = BB @ x + c"
   ]
  },
  {
   "cell_type": "code",
   "execution_count": 7,
   "metadata": {},
   "outputs": [
    {
     "data": {
      "text/plain": [
       "array([ 0.00000000e+00,  2.22044605e-16,  0.00000000e+00, -1.11022302e-16,\n",
       "        0.00000000e+00,  0.00000000e+00, -2.08166817e-17,  0.00000000e+00,\n",
       "        0.00000000e+00,  2.22044605e-16])"
      ]
     },
     "execution_count": 7,
     "metadata": {},
     "output_type": "execute_result"
    }
   ],
   "source": [
    "# Check the result:\n",
    "\n",
    "A @ x - b"
   ]
  },
  {
   "cell_type": "markdown",
   "metadata": {},
   "source": [
    "### Task I.1\n",
    "\n",
    "Collect the proof-of-concept above into a single function implementing the Jacobi iteration. This function should receive the r.h.s. matrix $A$, the l.h.s. vector `b`, and the number of iterations to perform.\n",
    "\n",
    "\n",
    "The matrix $A$ in the illustration above is strongly diagonally dominant, by construction. \n",
    "What happens if the diagonal matrix elements of $A$ are made smaller? Check the convergence of the Jacobi iteration, and check the value of the norm of $B$.\n",
    "\n",
    "(20% of the total grade)\n"
   ]
  },
  {
   "cell_type": "code",
   "execution_count": 10,
   "metadata": {},
   "outputs": [
    {
     "data": {
      "text/plain": [
       "[<matplotlib.lines.Line2D at 0x24254590cc0>]"
      ]
     },
     "execution_count": 10,
     "metadata": {},
     "output_type": "execute_result"
    },
    {
     "data": {
      "image/png": "[encoded data removed]",
      "text/plain": [
       "<Figure size 432x288 with 1 Axes>"
      ]
     },
     "metadata": {
      "needs_background": "light"
     },
     "output_type": "display_data"
    },
    {
     "data": {
      "image/png": "[encoded data removed]",
      "text/plain": [
       "<Figure size 432x288 with 1 Axes>"
      ]
     },
     "metadata": {
      "needs_background": "light"
     },
     "output_type": "display_data"
    }
   ],
   "source": [
    "# ... ENTER YOUR CODE HERE ...\n",
    "import matplotlib.pyplot as plt\n",
    "\n",
    "def Jacobi_SLAE(A, b, iters=100):\n",
    "    D_rev = np.diag(1./np.diag(A))\n",
    "    B = -A.copy()\n",
    "    np.fill_diagonal(B, 0)\n",
    "    B = D_rev @ B\n",
    "    B_norm = np.linalg.norm(B)\n",
    "    \n",
    "    assert B_norm <= 1, 'A is not diagonally dominant!'\n",
    "    \n",
    "    c = D_rev @ b\n",
    "    x = np.ones(A.shape[1])\n",
    "    \n",
    "    for i in range(iters):\n",
    "        x = B @ x + c\n",
    "    \n",
    "    return x\n",
    "\n",
    "# xx - настоящее решение\n",
    "xx = np.linalg.solve(A, b)\n",
    "\n",
    "N = 50\n",
    "differ = np.zeros(N)\n",
    "Range = np.arange(N)\n",
    "\n",
    "for i in range(N):\n",
    "    Solution = Jacobi_SLAE(A, b, iters=i)\n",
    "    differ[i] = np.linalg.norm(Solution - xx)\n",
    "\n",
    "plt.xlabel('Iterations')\n",
    "plt.ylabel('Distance from solution')\n",
    "\n",
    "plt.plot(Range, differ)\n",
    "\n",
    "#Давайте сделаем диагональные элементы поменьше:\n",
    "A1 = rndm.uniform(size=(n, n)) + np.diagflat([6]*n)    #на значениях ниже 5, норма B выше 1, функция выдаст ошибку, хотя может какая-то норма до сих пор < 1\n",
    "b1 = rndm.uniform(size=n)                              #строчку в функции можно закомментить, и увидеть что итерации расходятся, посмотрев на график\n",
    "\n",
    "differ_1 = np.zeros(N)\n",
    "\n",
    "for i in range(N):\n",
    "    Solution = Jacobi_SLAE(A1, b1, iters=i)\n",
    "    differ_1[i] = np.linalg.norm(Solution - xx)\n",
    "    \n",
    "plt.figure()\n",
    "plt.xlabel('Iterations')\n",
    "plt.ylabel('Distance from solution')\n",
    "plt.plot(Range, differ_1)"
   ]
  },
  {
   "cell_type": "markdown",
   "metadata": {},
   "source": [
    "# II. Seidel's iteration."
   ]
  },
  {
   "cell_type": "markdown",
   "metadata": {},
   "source": [
    "##### Task II.1\n",
    "\n",
    "Implement the Seidel's iteration. \n",
    "\n",
    "Test it on a random matrix. Study the convergence of iterations, relate to the norm of the iteration matrix.\n",
    "\n",
    "(30% of the total grade)"
   ]
  },
  {
   "cell_type": "code",
   "execution_count": 29,
   "metadata": {},
   "outputs": [
    {
     "name": "stdout",
     "output_type": "stream",
     "text": [
      "[ 0.38624826  0.1277473   0.20473288 -0.01603288 -0.2180493   0.44826824]\n",
      "Norm of iteration matrix ||B|| =  1.3521098707069825\n"
     ]
    },
    {
     "data": {
      "image/png": "[encoded data removed]",
      "text/plain": [
       "<Figure size 432x288 with 1 Axes>"
      ]
     },
     "metadata": {
      "needs_background": "light"
     },
     "output_type": "display_data"
    }
   ],
   "source": [
    "# ... ENTER YOUR CODE HERE ...\n",
    "\n",
    "def Seidel_SLAE(A, b, iters=100):\n",
    "    L = np.tril(A)\n",
    "    U = np.triu(A, 1) #разделяем на нижнетреугольную, и строговерхнетреугольную\n",
    "    \n",
    "    x_old = np.ones(A.shape[1])\n",
    "    x = x_old.copy()\n",
    "    \n",
    "    #следующие несколько строк - перевод в вид x = Bx + c, чтобы проверить норму итерационной матрицы B\n",
    "    B = -np.linalg.inv(L) @ U\n",
    "    Iter_norm = np.linalg.norm(B)\n",
    "    \n",
    "    for k in range(iters):\n",
    "        for i in range(A.shape[0]):\n",
    "            known_part = 0\n",
    "            for j in range(i):\n",
    "                known_part += x[j] * L[i,j]\n",
    "            x[i] = (b[i] - U[i, :] @ x_old - known_part) / L[i, i]\n",
    "        x_old[:] = x\n",
    "        #print(x)\n",
    "    \n",
    "    return x, Iter_norm\n",
    "\n",
    "s = 6\n",
    "A_2 = rndm.uniform(size=(s, s)) + np.diagflat([1]*s)        #регулируя, насколько диагональ доминирует над другими элементами, можно 'дергать' норму B, и видеть скорость\n",
    "b_2 = rndm.uniform(size=s)                                  #сходимости алг-ма, и сходится перестает совсем около ||B|| примерно 2.5 - 3.0\n",
    "\n",
    "x_true = np.linalg.solve(A_2, b_2)\n",
    "differ_2 = np.zeros(N)\n",
    "\n",
    "print(x_true)\n",
    "\n",
    "for i in range(N):\n",
    "    Solution, norm = Seidel_SLAE(A_2, b_2, iters=i)\n",
    "    differ_2[i] = np.linalg.norm(Solution - x_true)\n",
    "    \n",
    "plt.figure()\n",
    "plt.xlabel('Iterations')\n",
    "plt.ylabel('Distance from solution')\n",
    "plt.plot(Range, differ_2)\n",
    "print(\"Norm of iteration matrix ||B|| = \", norm)"
   ]
  },
  {
   "cell_type": "markdown",
   "metadata": {},
   "source": [
    "# III. Minimum residual scheme"
   ]
  },
  {
   "cell_type": "markdown",
   "metadata": {},
   "source": [
    "### Task III.1\n",
    "\n",
    "Implement the $\\textit{minimum residual}$ scheme: an explicit non-stationary method, where at each step you select the iteration parameter $\\tau_n$ to minimize the residual $\\mathbf{r}_{n+1}$ given $\\mathbf{r}_n$. Test it on a random matrix, study the convergence to the solution, in terms of the norm of the residual and the deviation from the ground truth solution (which you can obtain using a direct method). Study how the iteration parameter $\\tau_n$ changes as iterations progress.\n",
    "\n",
    "(50% of the grade)"
   ]
  },
  {
   "cell_type": "code",
   "execution_count": 78,
   "metadata": {},
   "outputs": [
    {
     "data": {
      "text/plain": [
       "[<matplotlib.lines.Line2D at 0x242577b7a20>]"
      ]
     },
     "execution_count": 78,
     "metadata": {},
     "output_type": "execute_result"
    },
    {
     "data": {
      "image/png": "[encoded data removed]",
      "text/plain": [
       "<Figure size 432x288 with 1 Axes>"
      ]
     },
     "metadata": {
      "needs_background": "light"
     },
     "output_type": "display_data"
    },
    {
     "data": {
      "image/png": "[encoded data removed]",
      "text/plain": [
       "<Figure size 432x288 with 1 Axes>"
      ]
     },
     "metadata": {
      "needs_background": "light"
     },
     "output_type": "display_data"
    }
   ],
   "source": [
    "# ... ENTER YOUR CODE HERE ...\n",
    "\n",
    "def MRes(A, b, maxiters=1000, tol=1e-5):\n",
    "    n = b.shape[0]\n",
    "    x = np.ones(n)\n",
    "    res = b - np.dot(A, x)  #начальные приближения\n",
    "    iters = 1\n",
    "    Tau_history = []\n",
    "    \n",
    "    while np.linalg.norm(res) > tol and iters < maxiters:\n",
    "        A_res = np.dot(A, res)\n",
    "        tau = A_res @ res / ( A_res @ A_res )\n",
    "        x += tau * res\n",
    "        res = b - np.dot(A, x)\n",
    "        iters += 1\n",
    "        Tau_history.append(tau)\n",
    "    \n",
    "    return x, Tau_history, iters\n",
    "\n",
    "size = 10\n",
    "A_3 = rndm.uniform(size=(size, size)) + np.diagflat([10]*size) #при малой диагонали, перестает сходиться\n",
    "b_3 = rndm.uniform(size=size)\n",
    "\n",
    "# xxx - настоящее решение\n",
    "xxx = np.linalg.solve(A_3, b_3)\n",
    "\n",
    "differ_3 = np.zeros(N)\n",
    "\n",
    "for i in range(N):\n",
    "    Solution, Tau_history, iters = MRes(A_3, b_3, maxiters=i)\n",
    "    differ_3[i] = np.linalg.norm(Solution - xxx)\n",
    "\n",
    "plt.xlabel('Max iterations')\n",
    "plt.ylabel('Distance from solution')\n",
    "plt.plot(Range, differ_3)\n",
    "\n",
    "plt.figure()\n",
    "plt.xlabel('Iterations')\n",
    "plt.ylabel('Tau')\n",
    "plt.title('Change of tau through MRes method')\n",
    "Iters = np.arange(iters - 1)\n",
    "plt.plot(Iters, Tau_history) # похоже на осцилляции, которые релаксируют на определенном уровне к концу итераций"
   ]
  },
  {
   "cell_type": "code",
   "execution_count": null,
   "metadata": {},
   "outputs": [],
   "source": []
  }
 ],
 "metadata": {
  "kernelspec": {
   "display_name": "Python 3",
   "language": "python",
   "name": "python3"
  },
  "language_info": {
   "codemirror_mode": {
    "name": "ipython",
    "version": 3
   },
   "file_extension": ".py",
   "mimetype": "text/x-python",
   "name": "python",
   "nbconvert_exporter": "python",
   "pygments_lexer": "ipython3",
   "version": "3.7.1"
  }
 },
 "nbformat": 4,
 "nbformat_minor": 2
}
