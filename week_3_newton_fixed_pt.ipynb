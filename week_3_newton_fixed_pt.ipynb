{
 "cells": [
  {
   "cell_type": "markdown",
   "metadata": {},
   "source": [
    "# Part I. Root-finding. Newton's iteration."
   ]
  },
  {
   "cell_type": "markdown",
   "metadata": {},
   "source": [
    "Write a function which performs Newton's iteration for a given function $f(x)$ with known derivative $f'(x)$. Your function should find the root of $f(x)$ with a predefined absolute accuracy $\\epsilon$. "
   ]
  },
  {
   "cell_type": "code",
   "execution_count": 4,
   "metadata": {},
   "outputs": [],
   "source": [
    "import numpy as np\n",
    "\n",
    "def newton_iteration(f, fder, x0, eps=1e-5, maxiter=1000):\n",
    "    \"\"\"Find a root of $f(x) = 0$ via Newton's iteration starting from x0.\n",
    "    \n",
    "    Parameters\n",
    "    ----------\n",
    "    f : callable\n",
    "        The function to find a root of.\n",
    "    fder : callable\n",
    "        The derivative of `f`.\n",
    "    x0 : float\n",
    "        Initial value for the Newton's iteration.\n",
    "    eps : float\n",
    "        The target accuracy. \n",
    "        The iteration stops when the distance between successive iterates is below `eps`.\n",
    "        Default is 1e-5.\n",
    "    maxiter : int\n",
    "        The maximum number of iterations (default is 1000.)\n",
    "        Iterations terminate if the number of iterations exceeds `maxiter`.\n",
    "        This parameter is only needed to avoid infinite loops if iterations wander off.\n",
    "        \n",
    "    Returns\n",
    "    -------\n",
    "    x : float\n",
    "        The estimate for the root.\n",
    "    niter : int\n",
    "        The number of iterations.\n",
    "    \"\"\"\n",
    "    x_old = x0\n",
    "    x = x_old - f(x_old)/fder(x_old)\n",
    "    \n",
    "    niter = 1\n",
    "    \n",
    "    \n",
    "    while niter <= maxiter and abs(x - x_old) >= eps:\n",
    "        x_old = x\n",
    "        x = x_old - f(x_old)/fder(x_old)\n",
    "        niter += 1\n",
    "    \n",
    "    return x, niter\n",
    "\n",
    "# ... ENTER YOUR CODE HERE ..."
   ]
  },
  {
   "cell_type": "markdown",
   "metadata": {},
   "source": [
    "### Test I.1 \n",
    "\n",
    "Test your implementation on a simple example, $f(x) = x^2 - 1$ or similar. (20% of the total grade)"
   ]
  },
  {
   "cell_type": "code",
   "execution_count": 5,
   "metadata": {},
   "outputs": [
    {
     "name": "stdout",
     "output_type": "stream",
     "text": [
      "1.0000000000000118 14\n"
     ]
    }
   ],
   "source": [
    "# ... ENTER YOUR CODE HERE ...\n",
    "def f(x):\n",
    "    return x**2 - 1   #функция из примера\n",
    "def fder(x):\n",
    "    return 2 * x\n",
    "\n",
    "x_0 = 1000\n",
    "\n",
    "x_nill, niter = newton_iteration(f, fder, x_0)\n",
    "print(x_nill, niter)"
   ]
  },
  {
   "cell_type": "markdown",
   "metadata": {},
   "source": [
    "### Test I.2\n",
    "\n",
    "Now consider a function which has a multiple root. Take $f(x) = (x^2 - 1)^2$ as an example. Implement a modified Newton's iteraion,\n",
    "\n",
    "$$\n",
    "x_{n+1} = x_{n} - m \\frac{f(x_n)}{f'(x_n)}\n",
    "$$\n",
    "\n",
    "and vary $m= 1, 2, 3, 4, 5$. Check the number of iterations required for convergence within a fixed $\\epsilon$. Are your observations consistent with the expectation that the convergence is quadratic is $m$ equals the multiplicity of the root, and is linear otherwise? (40% of the total grade)"
   ]
  },
  {
   "cell_type": "code",
   "execution_count": 6,
   "metadata": {},
   "outputs": [
    {
     "name": "stdout",
     "output_type": "stream",
     "text": [
      "For m = 1, converged in 30 iterations, root is 1.0000059984358023\n",
      "For m = 2, converged in 10 iterations, root is 1.0000000000027585\n",
      "For m = 3, converged in 19 iterations, root is 1.0000027769171689\n",
      "For m = 4, converged in 1001 iterations, root is 37.504999999999164\n",
      "For m = 5, converged in 1001 iterations, root is 0.036686764403831784\n"
     ]
    }
   ],
   "source": [
    "# ... ENTER YOUR CODE HERE ...\n",
    "def newton_iteration_mod(f, fder, x0, m, eps=1e-5, maxiter=1000):\n",
    "    x_old = x0\n",
    "    x = x_old - f(x_old)/fder(x_old)\n",
    "    \n",
    "    niter = 1\n",
    "    \n",
    "    \n",
    "    while niter <= maxiter and abs(x - x_old) >= eps:\n",
    "        x_old = x\n",
    "        x = x_old - m * f(x_old)/fder(x_old)\n",
    "        niter += 1\n",
    "    \n",
    "    return x, niter\n",
    "\n",
    "\n",
    "def f1(x):\n",
    "    return (x**2 - 1)**2\n",
    "\n",
    "def f1der(x):\n",
    "    return 4 * (x**2 - 1) * x\n",
    "\n",
    "\n",
    "x0 = 50\n",
    "\n",
    "Multiplicity = np.arange(5) + 1\n",
    "\n",
    "for i in Multiplicity:\n",
    "    nill, iterations = newton_iteration_mod(f1, f1der, x0, i)\n",
    "    print(f'For m = {i}, converged in {iterations} iterations, root is {nill}')\n"
   ]
  },
  {
   "cell_type": "markdown",
   "metadata": {},
   "source": [
    "Видно, что при m = 2, кол-во итераций сокращается => скорость сходимости квадратична, если m = кратности корня"
   ]
  },
  {
   "cell_type": "markdown",
   "metadata": {},
   "source": [
    "# Part II. Fixed-point iteration"
   ]
  },
  {
   "cell_type": "markdown",
   "metadata": {},
   "source": [
    "Consider the following equation:\n",
    "\n",
    "$$\n",
    "\\sqrt{x} = \\cos{x}\n",
    "$$\n",
    "\n",
    "Plot the left-hand side and right-hand side of this equation, and localize the root graphically. Estimate the location of the root by visual inspection of the plot.\n",
    "\n",
    "Write a function which finds the solution using fixed-point iteration up to a predefined accuracy $\\epsilon$. Compare the result to an estimate from a visual inspection.\n",
    "\n",
    "Next, rewrite the fixed-point problem in the form\n",
    "\n",
    "$$\n",
    "x = x - \\alpha f(x)\n",
    "$$\n",
    "\n",
    "where $\\alpha$ is the free parameter. Check the dependence of the number of iterations required for a given $\\epsilon$ on $\\alpha$. Compare your results to an expectation that the optimal value of $\\alpha$ is given by \n",
    "\n",
    "$$\n",
    "\\alpha = \\frac{2}{m + M}\n",
    "$$\n",
    "\n",
    "where $0 < m < |f'(x)| < M$ over the localization interval. (40% of the total grade)"
   ]
  },
  {
   "cell_type": "markdown",
   "metadata": {},
   "source": [
    "кажется, что выбрать, например, sin(x) - x или x - sin(x) мы должны сами, так как в таком методе нельзя учесть\n",
    "то, как именно от-но текущей точки мы должны сместиться, и с помощью взгляда на график мы должны\n",
    "внести эту самую определенность по знаку функции справа и слева от точки\n",
    "Это можно было проверять, зная производную в корне(очень близко к корню), а можно из графика всё смотреть"
   ]
  },
  {
   "cell_type": "code",
   "execution_count": 37,
   "metadata": {},
   "outputs": [
    {
     "data": {
      "image/png": "[encoded data removed]",
      "text/plain": [
       "<Figure size 432x288 with 1 Axes>"
      ]
     },
     "metadata": {
      "needs_background": "light"
     },
     "output_type": "display_data"
    },
    {
     "name": "stdout",
     "output_type": "stream",
     "text": [
      "Исходное уравнение: sin(x) = x\n",
      "\n",
      "For a equals 48.25078319187109, number of iterations: 10001, root is 0.0024919019044175412\n",
      "For a equals 51.467502071329164, number of iterations: 10001, root is 0.0024128139933206096\n",
      "For a equals 54.684220950787235, number of iterations: 10001, root is 0.0023408075536398426\n",
      "For a equals 57.900939830245306, number of iterations: 10001, root is 0.0022748852056452876\n",
      "For a equals 61.11765870970338, number of iterations: 10001, root is 0.0022142357665179456\n",
      "For a equals 64.33437758916145, number of iterations: 10001, root is 0.0021581918171116985\n",
      "For a equals 67.55109646861952, number of iterations: 10001, root is 0.0021061985193178163\n",
      "For a equals 70.76781534807759, number of iterations: 10001, root is 0.002057790320586146\n",
      "For a equals 73.98453422753566, number of iterations: 10001, root is 0.0020125732914126047\n",
      "For a equals 77.20125310699373, number of iterations: 10001, root is 0.001970211553756847\n",
      "For a equals 80.4179719864518, number of iterations: 10001, root is 0.0019304167257540208\n",
      "2/(m + M) was 64.33437758916146\n"
     ]
    },
    {
     "data": {
      "image/png": "[encoded data removed]",
      "text/plain": [
       "<Figure size 432x288 with 1 Axes>"
      ]
     },
     "metadata": {
      "needs_background": "light"
     },
     "output_type": "display_data"
    },
    {
     "name": "stdout",
     "output_type": "stream",
     "text": [
      "Исходное уравнение: cos(x) = x^0.5\n",
      "\n",
      "For a equals 0.24235463871236418, number of iterations: 58, root is 0.641714371088518\n",
      "For a equals 0.2585116146265218, number of iterations: 54, root is 0.6417143710616973\n",
      "For a equals 0.2746685905406794, number of iterations: 51, root is 0.6417143710051368\n",
      "For a equals 0.290825566454837, number of iterations: 47, root is 0.6417143710371421\n",
      "For a equals 0.3069825423689946, number of iterations: 44, root is 0.641714371028698\n",
      "For a equals 0.3231395182831522, number of iterations: 42, root is 0.6417143709763136\n",
      "For a equals 0.3392964941973098, number of iterations: 39, root is 0.6417143710007306\n",
      "For a equals 0.3554534701114674, number of iterations: 37, root is 0.6417143709775303\n",
      "For a equals 0.371610446025625, number of iterations: 35, root is 0.6417143709670322\n",
      "For a equals 0.3877674219397826, number of iterations: 33, root is 0.6417143709663905\n",
      "2/(m + M) was 0.32313951828315224\n"
     ]
    }
   ],
   "source": [
    "# ... ENTER YOUR CODE HERE ...\n",
    "import matplotlib.pyplot as plt\n",
    "\n",
    "def root(x):\n",
    "    return np.sqrt(x) #тут просто несколько функций, я тестил на разных; ниже алгоритм для x = sin(x); не самый удачный пример, так как он не сойдется ~никогда :)\n",
    "def cos(x):\n",
    "    return np.cos(x)\n",
    "def sin(x):\n",
    "    return np.sin(x)\n",
    "def f2(x):\n",
    "    return x - sin(x)\n",
    "def f3(x):\n",
    "    return (x**0.5 - cos(x))\n",
    "def fder2(x):\n",
    "    return (1 - cos(x))\n",
    "def fder3(x):\n",
    "    return (sin(x) + 0.5/x**0.5)\n",
    "\n",
    "\n",
    "\n",
    "#----------------------------------------------------------Отделяю часть кода, связанную, с алгоритмом, и часть связанную с заданием уравнения\n",
    "\n",
    "\n",
    "def fixed_point(f, x0, a, eps=1e-5, maxiter=1000):   #переписанный алгоритм, но уже с коэффициентом\n",
    "    x_old = x0\n",
    "    x = x_old - a * f(x_old)\n",
    "    \n",
    "    niter = 1\n",
    "    \n",
    "    \n",
    "    while niter <= maxiter and abs(x - x_old) >= eps:\n",
    "        x_old = x\n",
    "        x = x_old - a * f(x_old)\n",
    "        niter += 1\n",
    "    \n",
    "    return x, niter\n",
    "\n",
    "def analyser(start, end, fder, step=1e-2):              #Функция определяет оптимальный коэффициент\n",
    "    Localization_interval = np.arange(start, end, step)\n",
    "    Min = +np.inf\n",
    "    Max = -np.inf\n",
    "    \n",
    "    for i in Localization_interval:\n",
    "        Temp = np.abs(fder(i))\n",
    "        if Temp > Max: Max = Temp\n",
    "        if Temp < Min: Min = Temp\n",
    "            \n",
    "    Optimal = 2 / (Max + Min)\n",
    "    return Optimal\n",
    "\n",
    "\n",
    "\n",
    "#---------------------------------------------------------\n",
    "N = np.arange(-2, 2, 0.01)\n",
    "\n",
    "F1 = np.array([i for i in N])\n",
    "F2 = np.array([sin(i) for i in N])\n",
    "\n",
    "plt.plot(N, F1)\n",
    "plt.plot(N, F2)  # => Можно локалиловать корень от -0.25 до 0.25(интервал можно сделать и поменьше конечно, но пусть будет так)\n",
    "plt.legend(('x','sin(x)'))\n",
    "plt.grid()\n",
    "plt.show()\n",
    "\n",
    "Interval = (-0.25, 0.25)\n",
    "\n",
    "print('Исходное уравнение: sin(x) = x\\n')\n",
    "Best = analyser(*Interval, fder2)\n",
    "Prefactors = np.arange(0.75 * Best, 1.25 * Best, 0.05 * Best)\n",
    "\n",
    "for a in Prefactors:\n",
    "    x_null, iters = fixed_point(f2, 0.1, a, eps=1e-10, maxiter=1e4)\n",
    "    print(f'For a equals {a}, number of iterations: {iters}, root is {x_null}')\n",
    "print(f'2/(m + M) was {Best}')\n",
    "\n",
    "#---------------------------------------------------------\n",
    "N = np.arange(0.01, 2, 0.01)\n",
    "\n",
    "F1 = np.array([np.sqrt(i) for i in N])\n",
    "F2 = np.array([cos(i) for i in N])\n",
    "plt.figure()\n",
    "plt.plot(N, F1)\n",
    "plt.plot(N, F2)  # => Можно локалиловать корень от 0.01 до 1\n",
    "plt.legend(('x**0.5','cos(x)'))\n",
    "plt.grid()\n",
    "plt.show()\n",
    "\n",
    "Interval = (0.01, 1)\n",
    "\n",
    "print('Исходное уравнение: cos(x) = x^0.5\\n')\n",
    "\n",
    "Best_ = analyser(*Interval, fder3)\n",
    "Prefactors_ = np.arange(0.75 * Best_, 1.25 * Best_, 0.05 * Best_)\n",
    "\n",
    "for a in Prefactors_:\n",
    "    x_null, iters = fixed_point(f3, 0.8, a, eps=1e-10, maxiter=1e4)\n",
    "    print(f'For a equals {a}, number of iterations: {iters}, root is {x_null}')\n",
    "print(f'2/(m + M) was {Best_}')"
   ]
  },
  {
   "cell_type": "markdown",
   "metadata": {},
   "source": [
    "Для других функций оптимальное значение действительно было около 2/(m+M), в некоторой его окрестности было одинаковое кол-во итераций"
   ]
  },
  {
   "cell_type": "markdown",
   "metadata": {},
   "source": [
    "# Part III. Newton's fractal.\n",
    "\n",
    "(Not graded). \n",
    "\n",
    "Consider the equation\n",
    "\n",
    "$$\n",
    "x^3 = 1\n",
    "$$\n",
    "\n",
    "It has three solutions in the complex plane, $x_k = \\exp(i\\, 2\\pi k/ 3)$, $k = 0, 1, 2$.\n",
    "\n",
    "The Newton's iterations converge to one of these solutions, depending on the starting point in the complex plane (to converge to a complex-valued solution, the iteration needs a complex-valued starting point).\n",
    "\n",
    "Plot the \\emph{basins of attraction} of these roots on the complex plane of $x$ (i.e., on the plane $\\mathrm{Re}x$ -- $\\mathrm{Im}x$). To this end, make a series of calculations, varying the initial conditions on a grid of points. \n",
    "Color the grid in three colors, according to the root, to which iterations converged."
   ]
  },
  {
   "cell_type": "markdown",
   "metadata": {},
   "source": [
    "# АЛГОРИТМ СНИЗУ РАБОТАЕТ ДОЛГО"
   ]
  },
  {
   "cell_type": "code",
   "execution_count": 44,
   "metadata": {},
   "outputs": [
    {
     "data": {
      "image/png": "[encoded data removed]",
      "text/plain": [
       "<Figure size 432x288 with 1 Axes>"
      ]
     },
     "metadata": {
      "needs_background": "light"
     },
     "output_type": "display_data"
    }
   ],
   "source": [
    "# a = np.complex(a) - преобразование в комплексное число\n",
    "\n",
    "def func(x):\n",
    "    return x**3 - 1\n",
    "def funcder(x):\n",
    "    return 3 * x**2\n",
    "\n",
    "Points = 1e3              #чтобы строить быстрее(сильно быстрее), можно поставить значение 1e2, но тогда границы будут неплавными\n",
    "\n",
    "Border = 2\n",
    "Colors = np.array([[1. , 0. , 0.], [0. , 1. , 0.], [0. , 0. , 1.]])\n",
    "\n",
    "Re_Grid = np.arange(-Border + Border / Points , Border , 2 * Border / Points)    #Тут я разметил некую сетку, в каких точках мы будем смотреть сходимость\n",
    "Im_Grid = np.arange(-Border + Border / Points , Border , 2 * Border / Points)\n",
    "\n",
    "Roots = np.array([np.complex(1, 0), np.exp(np.complex(0, 2 * np.pi / 3)), np.exp(np.complex(0, 4 * np.pi / 3))])    #Завёел массив с корнями, удобно для назначения индексов\n",
    "\n",
    "ColorMap = np.zeros((int(Points), int(Points), 3))                                          #Тут будут храниться цвета для точек\n",
    "\n",
    "\n",
    "for r in range(int(Points)):\n",
    "    for i in range(int(Points)):\n",
    "        x0, iters = newton_iteration(func, funcder, np.complex(Re_Grid[r], Im_Grid[i]))\n",
    "        Index = np.argmin(np.abs(Roots - x0))\n",
    "        ColorMap[r, i, :] = Colors[Index]*(1 - (iters-2)/iters)       #Назначил точке её цвет, решил что неплохо было бы в зависимости от итераций делать точку тусклее;\n",
    "                                                                  #Такая конструкция - скорее империческая; в моем алгоритме min(iters) это 1, и с хорошей точностью вряд ли за эту итерацию всё сойдется, поэтому значение цвета не уйдет за 1.\n",
    "for i in range(int(Points)):\n",
    "    X = np.array([Re_Grid[i] for j in Re_Grid])      #для каждой вещественной координаты, рисую точку во всех мнимых\n",
    "    plt.scatter(X, Im_Grid, c=ColorMap[i, :, :])"
   ]
  },
  {
   "cell_type": "markdown",
   "metadata": {},
   "source": [
    "Хорошо выделяются 3 яркие области, в которых находятся 3 корня уравнения"
   ]
  },
  {
   "cell_type": "code",
   "execution_count": null,
   "metadata": {},
   "outputs": [],
   "source": []
  }
 ],
 "metadata": {
  "kernelspec": {
   "display_name": "Python 3",
   "language": "python",
   "name": "python3"
  },
  "language_info": {
   "codemirror_mode": {
    "name": "ipython",
    "version": 3
   },
   "file_extension": ".py",
   "mimetype": "text/x-python",
   "name": "python",
   "nbconvert_exporter": "python",
   "pygments_lexer": "ipython3",
   "version": "3.7.1"
  }
 },
 "nbformat": 4,
 "nbformat_minor": 2
}
