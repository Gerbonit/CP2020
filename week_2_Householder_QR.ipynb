{
 "cells": [
  {
   "cell_type": "code",
   "execution_count": 1,
   "metadata": {},
   "outputs": [],
   "source": [
    "import numpy as np\n",
    "\n",
    "from numpy.testing import assert_allclose"
   ]
  },
  {
   "cell_type": "markdown",
   "metadata": {},
   "source": [
    "# Part I. Construct a Householder reflection of a vector."
   ]
  },
  {
   "cell_type": "markdown",
   "metadata": {},
   "source": [
    "Given a vector $\\mathbf{x}$, and a plane with a normal vector $\\mathbf{u}$, the Householder transformation reflects $\\mathbf{x}$ about the plane.\n",
    "\n",
    "The matrix of the Householder transformation is\n",
    "\n",
    "$$\n",
    "\\mathbf{H} = \\mathbf{1} - 2 \\mathbf{u} \\mathbf{u}^T\n",
    "$$\n",
    "\n",
    "Given two equal-length vectors $\\mathbf{x}$ and $\\mathbf{y}$, a rotation which brings $\\mathbf{x}$ to $\\mathbf{y}$ is a Householder transform with\n",
    "\n",
    "$$\n",
    "\\mathbf{u} = \\frac{\\mathbf{x} - \\mathbf{y}}{\\left|\\mathbf{x} - \\mathbf{y}\\right|}\n",
    "$$"
   ]
  },
  {
   "cell_type": "markdown",
   "metadata": {},
   "source": [
    "Write a function which rotates a given vector, $\\mathbf{x} = (x_1, \\dots, x_n)$ into $\\mathbf{y} = (\\left|\\mathbf{x}\\right|, 0, \\dots, 0)^T$ using a Householder transformation."
   ]
  },
  {
   "cell_type": "code",
   "execution_count": 22,
   "metadata": {},
   "outputs": [],
   "source": [
    "def householder(vec):\n",
    "    \"\"\"Construct a Householder reflection to zero out 2nd and further components of a vector.\n",
    "\n",
    "    Parameters\n",
    "    ----------\n",
    "    vec : array-like of floats, shape (n,)\n",
    "        Input vector\n",
    "    \n",
    "    Returns\n",
    "    -------\n",
    "    outvec : array of floats, shape (n,)\n",
    "        Transformed vector, with ``outvec[1:]==0`` and ``|outvec| == |vec|``\n",
    "    H : array of floats, shape (n, n)\n",
    "        Orthogonal matrix of the Householder reflection\n",
    "    \"\"\"\n",
    "    vec = np.asarray(vec, dtype=float)\n",
    "    if vec.ndim != 1:\n",
    "        raise ValueError(\"vec.ndim = %s, expected 1\" % vec.ndim)\n",
    "    \n",
    "    N = vec.shape[0]\n",
    "    norm = np.linalg.norm(vec)     #комментировать особо нечего, реализую ту теорию сверху\n",
    "    outvec = np.zeros(N)\n",
    "    outvec[0] = norm\n",
    "    \n",
    "    \n",
    "    u = (vec - outvec) / np.linalg.norm(vec - outvec)\n",
    "    U = np.zeros((N, N))\n",
    "    for i in range(N):\n",
    "        for j in range(N):\n",
    "            U[i, j] = u[i] * u[j]    #это я так u * u.T перемножаю, не нашел ф-ции в Numpy, *, @ или np.dot не подошли; P.S. потом узнал о существовании np.outer(), переписывать не стал \n",
    "    H = np.eye(N) - 2 * U\n",
    "    \n",
    "    return outvec, H\n",
    "    # ... ENTER YOUR CODE HERE ..."
   ]
  },
  {
   "cell_type": "markdown",
   "metadata": {},
   "source": [
    "Test your function using tests below:"
   ]
  },
  {
   "cell_type": "code",
   "execution_count": 23,
   "metadata": {},
   "outputs": [],
   "source": [
    "# Test I.1 (10% of the total grade).\n",
    "\n",
    "v = np.array([1, 2, 3])\n",
    "v1, h = householder(v)\n",
    "\n",
    "assert_allclose(np.dot(h, v1), v)\n",
    "assert_allclose(np.dot(h, v), v1, atol=1e-10) #Я изменил тут точность, он исходно стоит на 100% совпадение, хотя тест который перед ним не падает"
   ]
  },
  {
   "cell_type": "code",
   "execution_count": 24,
   "metadata": {},
   "outputs": [],
   "source": [
    "# Test I.2 (10% of the total grade).\n",
    "\n",
    "rndm = np.random.RandomState(1234)\n",
    "\n",
    "vec = rndm.uniform(size=7)\n",
    "v1, h = householder(vec)\n",
    "\n",
    "assert_allclose(np.dot(h, v1), vec) #вывода нет => переменные совпали"
   ]
  },
  {
   "cell_type": "markdown",
   "metadata": {},
   "source": [
    "# Part II. Compute the $\\mathrm{QR}$ decomposition of a matrix.\n",
    "\n",
    "Given a rectangular $m\\times n$ matrix $\\mathbf{A}$, construct a Householder reflector matrix $\\mathbf{H}_1$ which transforms the first column of $\\mathbf{A}$ (and call the result $\\mathbf{A}^{(1)}$)\n",
    "\n",
    "$$\n",
    "\\mathbf{H}_1 \\mathbf{A} =%\n",
    "\\begin{pmatrix}\n",
    "\\times & \\times & \\times & \\dots & \\times \\\\\n",
    "0      & \\times & \\times & \\dots & \\times \\\\\n",
    "0      & \\times & \\times & \\dots & \\times \\\\\n",
    "&& \\dots&& \\\\\n",
    "0      & \\times & \\times & \\dots & \\times \\\\\n",
    "\\end{pmatrix}%\n",
    "\\equiv \\mathbf{A}^{(1)}\\;.\n",
    "$$\n",
    "\n",
    "Now consider the lower-right submatrix of $\\mathbf{A}^{(1)}$, and construct a Householder reflector which annihilates the second column of $\\mathbf{A}$:\n",
    "\n",
    "$$\n",
    "\\mathbf{H}_2 \\mathbf{A}^{(1)} =%\n",
    "\\begin{pmatrix}\n",
    "\\times & \\times & \\times & \\dots & \\times \\\\\n",
    "0      & \\times & \\times & \\dots & \\times \\\\\n",
    "0      & 0      & \\times & \\dots & \\times \\\\\n",
    "&& \\dots&& \\\\\n",
    "0      & 0      & \\times & \\dots & \\times \\\\\n",
    "\\end{pmatrix}%\n",
    "\\equiv \\mathbf{A}^{(2)} \\;.\n",
    "$$\n",
    "\n",
    "Repeating the process $n-1$ times, we obtain\n",
    "\n",
    "$$\n",
    "\\mathbf{H}_{n-1} \\cdots \\mathbf{H}_2 \\mathbf{H}_1 \\mathbf{A} = \\mathbf{R} \\;,\n",
    "$$\n",
    "\n",
    "with $\\mathbf{R}$ an upper triangular matrix. Since each $\\mathbf{H}_k$ is orthogonal, so is their product. The inverse of an orthogonal matrix is orthogonal. Hence the process generates the $\\mathrm{QR}$ decomposition of $\\mathbf{A}$. "
   ]
  },
  {
   "cell_type": "markdown",
   "metadata": {},
   "source": [
    "Write a function, which receives a recangular matrix, $A$, and returns the Q and R factors of the $QR$ factorization of $A$."
   ]
  },
  {
   "cell_type": "code",
   "execution_count": 25,
   "metadata": {},
   "outputs": [],
   "source": [
    "def qr_decomp(a):\n",
    "    \"\"\"\n",
    "    \n",
    "    Parameters\n",
    "    ----------\n",
    "    a : ndarray, shape(m, n)\n",
    "        The input matrix\n",
    "    \n",
    "    Returns\n",
    "    -------\n",
    "    q : ndarray, shape(m, m)\n",
    "        The orthogonal matrix\n",
    "    r : ndarray, shape(m, n)\n",
    "        The upper triangular matrix\n",
    "        \n",
    "    Examples\n",
    "    --------\n",
    "    >>> a = np.random.random(size=(3, 5))\n",
    "    >>> q, r = qr_decomp(a)\n",
    "    >>> np.assert_allclose(np.dot(q, r), a)\n",
    "    \n",
    "    \"\"\"\n",
    "    #a1 = np.array(a, copy=True, dtype=float) #я этим не вользовался, но оставил  как от исходного кода\n",
    "    #m, n = a1.shape\n",
    "    \n",
    "    if a.shape[0] > a.shape[1]:    #в зависимости от того, какое измерение больше, зависит сколько циклов нужно до достижения верхнетреугольной\n",
    "        N = a.shape[1]               #в общем N это кол-во диагоналей, элементы под которыми переходят в 0\n",
    "    else: N = a.shape[0] - 1\n",
    "    \n",
    "    \n",
    "    M = a.shape[0]         #M это именно кол-во строчек, оно используется как для определения размеров Q, так и для размеров матрицы \"Хаусхолдера\"\n",
    "    r = a.copy()\n",
    "    q = np.eye(M)\n",
    "    \n",
    "    for i in range(N):\n",
    "        vec = r[i:, i]\n",
    "        _, H = householder(vec)\n",
    "        H_sq = np.eye(M)                #то есть чтобы добить нужный нам размер, все элементы сверху слева это единичная матрица\n",
    "        H_sq[i:, i:] = H              #в следующей задаче я буду делать немного по-другому, каждый раз меняя только часть матрицы\n",
    "        r = H_sq @ r               #сложность вычисления, как будет замечено ниже, m**2 * n, да еще и в цикле всё\n",
    "        q = q @ H_sq.T\n",
    "    \n",
    "    return q, r\n",
    "    # ... ENTER YOUR CODE HERE ..."
   ]
  },
  {
   "cell_type": "code",
   "execution_count": 26,
   "metadata": {},
   "outputs": [],
   "source": [
    "# Might want to turn this on for prettier printing: zeros instead of `1e-16` etc\n",
    "\n",
    "np.set_printoptions(suppress=True)"
   ]
  },
  {
   "cell_type": "code",
   "execution_count": 27,
   "metadata": {},
   "outputs": [
    {
     "name": "stdout",
     "output_type": "stream",
     "text": [
      "Initial matrix: \n",
      " [[0.19151945 0.62210877 0.43772774 0.78535858 0.77997581]\n",
      " [0.27259261 0.27646426 0.80187218 0.95813935 0.87593263]\n",
      " [0.35781727 0.50099513 0.68346294 0.71270203 0.37025075]]\n",
      "Decomposition: \n",
      " Q: \n",
      " [[ 0.39173836  0.89494087  0.21359281]\n",
      " [ 0.55756729 -0.41557276  0.71862229]\n",
      " [ 0.73188781 -0.16241956 -0.66178555]] \n",
      " R: \n",
      " [[ 0.48889634  0.76452352  1.11879064  1.36350018  1.06491985]\n",
      " [-0.          0.36048815 -0.05250354  0.18891613  0.27388252]\n",
      " [-0.          0.          0.21743282  0.38463134  0.55103534]]\n",
      "Q * R: \n",
      " [[0.19151945 0.62210877 0.43772774 0.78535858 0.77997581]\n",
      " [0.27259261 0.27646426 0.80187218 0.95813935 0.87593263]\n",
      " [0.35781727 0.50099513 0.68346294 0.71270203 0.37025075]]\n"
     ]
    }
   ],
   "source": [
    "# Test II.1 (20% of the total grade)\n",
    "\n",
    "rndm = np.random.RandomState(1234)\n",
    "a = rndm.uniform(size=(3, 5))\n",
    "print('Initial matrix: \\n', a)\n",
    "q, r = qr_decomp(a)\n",
    "print('Decomposition: \\n', 'Q: \\n', q, '\\n R: \\n', r)\n",
    "\n",
    "# test that Q is indeed orthogonal\n",
    "assert_allclose(np.dot(q, q.T), np.eye(3), atol=1e-10)    #Снова ничего не выводит => с некой точностью всё совпадает\n",
    "                                                          #Проверил на разных матрицах, у которых или строчек, или столбцов больше, также на квадратных\n",
    "# test the decomposition itself\n",
    "assert_allclose(np.dot(q, r), a)\n",
    "\n",
    "print('Q * R: \\n', np.dot(q, r))"
   ]
  },
  {
   "cell_type": "markdown",
   "metadata": {},
   "source": [
    "Now compare your decompositions to the library function (which actually wraps the corresponding LAPACK functions)"
   ]
  },
  {
   "cell_type": "code",
   "execution_count": 28,
   "metadata": {},
   "outputs": [
    {
     "name": "stdout",
     "output_type": "stream",
     "text": [
      "True q: \n",
      " [[-0.39173836  0.89494087 -0.21359281]\n",
      " [-0.55756729 -0.41557276 -0.71862229]\n",
      " [-0.73188781 -0.16241956  0.66178555]] \n",
      " True r: \n",
      " [[-0.48889634 -0.76452352 -1.11879064 -1.36350018 -1.06491985]\n",
      " [ 0.          0.36048815 -0.05250354  0.18891613  0.27388252]\n",
      " [ 0.          0.         -0.21743282 -0.38463134 -0.55103534]]\n"
     ]
    }
   ],
   "source": [
    "from scipy.linalg import qr\n",
    "qq, rr = qr(a)\n",
    "\n",
    "assert_allclose(np.dot(qq, rr), a)\n",
    "print('True q: \\n', qq, '\\n True r: \\n', rr)"
   ]
  },
  {
   "cell_type": "markdown",
   "metadata": {},
   "source": [
    "Check if your `q` and `r` agree with `qq` and `rr`. Explain."
   ]
  },
  {
   "cell_type": "markdown",
   "metadata": {},
   "source": [
    "*Enter your explanation here* (10% of the total grade, peer-graded)\n",
    "\n",
    "Можно заметить, что у Q различия в знаке по столбцам, у R - по строкам\n",
    "\n",
    "(Можно увидеть, что по модулю все элементы матриц одинаковы):"
   ]
  },
  {
   "cell_type": "code",
   "execution_count": 9,
   "metadata": {},
   "outputs": [],
   "source": [
    "assert_allclose(np.abs(q), np.abs(qq), atol=1e-10) #ничего не вывело => сошлось, но не всегда так, иногда элементы отличаются кардинально\n",
    "assert_allclose(np.abs(r), np.abs(rr), atol=1e-10)"
   ]
  },
  {
   "cell_type": "markdown",
   "metadata": {},
   "source": [
    "Думается, что это особенность вычисления qr в библиотеке scipy, в которой как-то хитро устроен алгоритм.\n",
    "\n",
    "Причём документации я особо и не нашел, может не там искал, поэтому сказать что именно отличается не могу.\n",
    "\n",
    "Единственная догадка - допустим есть особая матрица А, при применении которой к верхнетреугольной она ее не меняет; тогда пусть у нее также есть обратная; при вставке между Q и R матрицы A^-1 * A, по1меняться ничего не должно, однако Q и R, теперь другие, всё равно дающие исходную матрицу => неоднозначность QR-decomp? Однако до какого-то конкретного вида A я не додумал"
   ]
  },
  {
   "cell_type": "markdown",
   "metadata": {},
   "source": [
    "# Part III. Avoid forming Householder matrices explicitly."
   ]
  },
  {
   "cell_type": "markdown",
   "metadata": {},
   "source": [
    "Note the special structure of the Householder matrices: A reflector $\\mathbf{H}$ is completely specified by a reflection vector $\\mathbf{u}$. Also note that the computational cost of applying a reflector to a matrix strongly depends on the order of operations:\n",
    "\n",
    "$$\n",
    "\\left( \\mathbf{u} \\mathbf{u}^T \\right) \\mathbf{A}  \\qquad \\textrm{is } O(m^2 n)\\;,\n",
    "$$\n",
    "while\n",
    "$$\n",
    "\\mathbf{u} \\left( \\mathbf{u}^T \\mathbf{A} \\right) \\qquad \\textrm{is } O(mn)\n",
    "$$\n",
    "\n",
    "Thus, it seems to make sense to *avoid* forming the $\\mathbf{H}$ matrices. Instead, one stores the reflection vectors, $\\mathbf{u}$, themselves, and provides a way of multiplying an arbitrary matrix by $\\mathbf{Q}^T$, e.g., as a standalone function (or a class)."
   ]
  },
  {
   "cell_type": "markdown",
   "metadata": {},
   "source": [
    "Write a function which constructs the `QR` decomposition of a matrix *without ever forming the* $\\mathbf{H}$ matrices, and returns the $\\mathbf{R}$ matrix and reflection vectors. \n",
    "\n",
    "Write a second function, which uses reflection vectors to multiply a matrix with $\\mathbf{Q}^T$. Make sure to include enough comments for a marker to follow your implementation, and add tests. \n",
    "\n",
    "(Peer-graded, 40% of the total grade)"
   ]
  },
  {
   "cell_type": "code",
   "execution_count": 19,
   "metadata": {},
   "outputs": [],
   "source": [
    "#всё, что нужно поменять - вывод 1 функции, сделать householder_mod(), которая возвращает u вместо H\n",
    "def householder_mod(vec):\n",
    "    \"\"\"\n",
    "    Parameters\n",
    "    ----------\n",
    "    vec : array-like of floats, shape (n,)\n",
    "        Input vector\n",
    "    \n",
    "    Returns\n",
    "    -------\n",
    "    u : array of floats, shape(n,)\n",
    "        Reflection vector for the given x and 1st coordinate\n",
    "    \n",
    "    \"\"\"\n",
    "    \n",
    "    vec = np.asarray(vec, dtype=float)\n",
    "    if vec.ndim != 1:\n",
    "        raise ValueError(\"vec.ndim = %s, expected 1\" % vec.ndim)\n",
    "    \n",
    "    N = vec.shape[0]\n",
    "    norm = np.linalg.norm(vec)     #урезанная функция, которая уже не считает u * u.T\n",
    "    outvec = np.zeros(N)\n",
    "    outvec[0] = norm\n",
    "    \n",
    "    u = (vec - outvec) / np.linalg.norm(vec - outvec)\n",
    "    \n",
    "    return u\n",
    "\n",
    "#теперь немного преображенная qr_decomp_matrix_R(), возвращает только часть разложения, а именно матрицу R, далее отдельно будет функция для Q\n",
    "\n",
    "def qr_decomp_matrix_R(a):\n",
    "    \"\"\"\n",
    "    Parameters\n",
    "    ----------\n",
    "    a : ndarray, shape(m, n)\n",
    "        The input matrix\n",
    "    \n",
    "    Returns\n",
    "    -------\n",
    "    r : ndarray, shape(m, n)\n",
    "        The upper triangular matrix\n",
    "    U : ndarray, shape(m, m)\n",
    "        The array of reflection vectors u of sub-diagonal vectors of a matrix\n",
    "    \n",
    "    \"\"\"\n",
    "    if a.shape[0] > a.shape[1]:\n",
    "        N = a.shape[1]\n",
    "    else: N = a.shape[0] - 1\n",
    "    \n",
    "    \n",
    "    M = a.shape[0]    #алгоритм такой же, единственно что теперь придётся помучаться с перемножением u на матрицу слева\n",
    "    r = a.copy()\n",
    "    q = np.eye(M)\n",
    "    U = np.ones((N,M))       #тут будут по строчкам храниться вектора, но т.к. они разной размерности то перед вектором будет стоять посл-ть из 1(можно было бы сделать из любого числа)\n",
    "    for i in range(N):\n",
    "        vec = r[i:, i]\n",
    "        u = householder_mod(vec)\n",
    "        r_slice = r[i:, i:]                  #снова возникает проблема с умножением строки на матрицу и столбца на строку\n",
    "        \n",
    "        Temp1 = np.zeros(r_slice.shape[1])     #в этих матрицах будет находиться это сердобольное перемножение\n",
    "        Temp2 = np.zeros_like(r_slice)\n",
    "        for k in range(Temp1.shape[0]):\n",
    "                Temp1[k] = u @ r_slice[:, k]     #это часть u.T @ A\n",
    "        \n",
    "        for k in range(Temp2.shape[0]):\n",
    "            for j in range(Temp2.shape[1]):\n",
    "                Temp2[k, j] = u[k] * Temp1[j]   #это часть u @ (u.T @ A)\n",
    "        \n",
    "        r_slice = r_slice - 2 * Temp2       #Это была расписана матрица Хаусхолдера\n",
    "        \n",
    "        r[i:, i:] = r_slice       #добавляем наш вектор нормали, и заменяем нижнюю правую часть матрицы новой; цикл заново\n",
    "        U[i, i:] = u\n",
    "    \n",
    "    \n",
    "    return r, U\n",
    "\n",
    "#Теперь пробуем восстановить Q по нашим векторам из U, это должно быть так же не трудно, как и R\n",
    "def qr_decomp_matrix_Q(a, U):\n",
    "    \"\"\"\n",
    "    Parameters\n",
    "    ----------\n",
    "    a : ndarray, shape(m, n)\n",
    "        The input matrix\n",
    "    U : ndarray, shape(m, m)\n",
    "        The array of reflection vectors u of sub-diagonal vectors of a matrix\n",
    "    Returns\n",
    "    -------\n",
    "    Q_t : \n",
    "        ndarray, shape(m, n)\n",
    "        Transposed matrix q of the qr decomposition\n",
    "    \"\"\"\n",
    "    N = U.shape[0]            #Мы знаем, сколько именно векторов, по построению U\n",
    "    \n",
    "    Q_t = np.eye(a.shape[0])        #Тут я тоже H не строил явно\n",
    "    \n",
    "    for i in range(N):\n",
    "        u = U[i, i:]                       # \"Извлекаю\" вектор, так просто будет понятнее что происходит;\n",
    "        \n",
    "        Temp1 = np.zeros(a.shape[0])\n",
    "        Temp2 = np.zeros((u.shape[0], Temp1.shape[0]))\n",
    "        \n",
    "        for k in range(Temp1.shape[0]):            #если расписать  по-честному перемножение матрицы H_sq(эта матрица уже использовалась), то\n",
    "            Temp1[k] = u @ Q_t[i:, k]                #получится что u.T * u действует только на нижние строки следующей матрицы, что собственно здесь и написано\n",
    "        \n",
    "        for k in range(Temp2.shape[0]):\n",
    "            for j in range(Temp2.shape[1]):\n",
    "                Temp2[k, j] = u[k] * Temp1[j]           #вместо a у нас изначально есть матрица единичная, и тогда мы получаем H_k * H_k-1 * ... * H_1 * (A * A**-1) = R * A**-1 = Q_t\n",
    "                                                    #тогда на каждом шаге мы урезаем часть, на которую действует наш u.T * u, в соответствии с длиной этого самого u\n",
    "        Q_t[i:, :] -= 2 * Temp2\n",
    "                                                #я вывожу именно Q_t, т.к. для меня такой вывод функции несет больший смысл, всё-таки мы\n",
    "    return Q_t                              #получаем обе части qr-разложения, а проверить результат можно уже вне функции\n"
   ]
  },
  {
   "cell_type": "code",
   "execution_count": 20,
   "metadata": {},
   "outputs": [
    {
     "name": "stdout",
     "output_type": "stream",
     "text": [
      "Initial matrix: \n",
      " [[0.19151945 0.62210877 0.43772774 0.78535858 0.77997581]\n",
      " [0.27259261 0.27646426 0.80187218 0.95813935 0.87593263]\n",
      " [0.35781727 0.50099513 0.68346294 0.71270203 0.37025075]] \n",
      "\n",
      "R part of QR decomposition: \n",
      " [[ 0.48889634  0.76452352  1.11879064  1.36350018  1.06491985]\n",
      " [-0.          0.36048815 -0.05250354  0.18891613  0.27388252]\n",
      " [-0.          0.          0.21743282  0.38463134  0.55103534]] \n",
      "\n",
      "Q_t part of QR decomposition: \n",
      " [[ 0.39173836  0.55756729  0.73188781]\n",
      " [ 0.89494087 -0.41557276 -0.16241956]\n",
      " [ 0.21359281  0.71862229 -0.66178555]] \n",
      "\n",
      "Check if Q_t * A equals R: \n",
      " [[ 0.48889634  0.76452352  1.11879064  1.36350018  1.06491985]\n",
      " [ 0.          0.36048815 -0.05250354  0.18891613  0.27388252]\n",
      " [-0.         -0.          0.21743282  0.38463134  0.55103534]]\n",
      "Ok\n"
     ]
    }
   ],
   "source": [
    "r1, U1 = qr_decomp_matrix_R(a)\n",
    "print('Initial matrix: \\n', a, '\\n')\n",
    "\n",
    "print('R part of QR decomposition: \\n', r1,'\\n')\n",
    "\n",
    "Q_t = qr_decomp_matrix_Q(a, U1)\n",
    "print('Q_t part of QR decomposition: \\n', Q_t, '\\n')\n",
    "R1 = Q_t @ a\n",
    "print('Check if Q_t * A equals R: \\n', R1)\n",
    "assert_allclose(r1, R1, atol=1e-10)\n",
    "print('Ok')"
   ]
  },
  {
   "cell_type": "markdown",
   "metadata": {},
   "source": [
    "Ну а теперь сделаем несколько тестов на матрицах, с разными формами/кол-вом элементов:"
   ]
  },
  {
   "cell_type": "code",
   "execution_count": 29,
   "metadata": {},
   "outputs": [
    {
     "name": "stdout",
     "output_type": "stream",
     "text": [
      "Initial matrix: \n",
      " [[0.07630829 0.77991879 0.43840923 0.72346518 0.97798951 0.53849587]\n",
      " [0.50112046 0.07205113 0.26843898 0.4998825  0.67923    0.80373904]\n",
      " [0.38094113 0.06593635 0.2881456  0.90959353 0.21338535 0.45212396]\n",
      " [0.93120602 0.02489923 0.60054892 0.9501295  0.23030288 0.54848992]\n",
      " [0.90912837 0.13316945 0.52341258 0.75040986 0.66901324 0.46775286]\n",
      " [0.20484909 0.49076589 0.37238469 0.47740115 0.36589039 0.83791799]] \n",
      "\n",
      "Q @ R: \n",
      " [[0.07630829 0.77991879 0.43840923 0.72346518 0.97798951 0.53849587]\n",
      " [0.50112046 0.07205113 0.26843898 0.4998825  0.67923    0.80373904]\n",
      " [0.38094113 0.06593635 0.2881456  0.90959353 0.21338535 0.45212396]\n",
      " [0.93120602 0.02489923 0.60054892 0.9501295  0.23030288 0.54848992]\n",
      " [0.90912837 0.13316945 0.52341258 0.75040986 0.66901324 0.46775286]\n",
      " [0.20484909 0.49076589 0.37238469 0.47740115 0.36589039 0.83791799]] \n",
      "\n",
      "\n",
      "\n",
      "Initial matrix: \n",
      " [[0.15416284 0.7400497  0.26331502 0.53373939 0.01457496 0.91874701\n",
      "  0.90071485]\n",
      " [0.03342143 0.95694934 0.13720932 0.28382835 0.60608318 0.94422514\n",
      "  0.85273554]\n",
      " [0.00225923 0.52122603 0.55203763 0.48537741 0.76813415 0.16071675\n",
      "  0.76456045]] \n",
      "\n",
      "Q @ R: \n",
      " [[0.15416284 0.7400497  0.26331502 0.53373939 0.01457496 0.91874701\n",
      "  0.90071485]\n",
      " [0.03342143 0.95694934 0.13720932 0.28382835 0.60608318 0.94422514\n",
      "  0.85273554]\n",
      " [0.00225923 0.52122603 0.55203763 0.48537741 0.76813415 0.16071675\n",
      "  0.76456045]] \n",
      "\n",
      "\n",
      "\n",
      "Initial matrix: \n",
      " [[0.0975336  0.76124972 0.24693797 0.13813169]\n",
      " [0.33144656 0.08299957 0.67197708 0.8065938 ]\n",
      " [0.98274191 0.63566073 0.21592326 0.54902743]\n",
      " [0.54555996 0.23407607 0.11372584 0.49965927]\n",
      " [0.15210842 0.53268608 0.38700677 0.68832738]\n",
      " [0.37292716 0.94616004 0.77735792 0.6080343 ]\n",
      " [0.61523204 0.6429876  0.26848351 0.75015615]\n",
      " [0.28683049 0.70937606 0.06478678 0.68985848]] \n",
      "\n",
      "Q @ R: \n",
      " [[0.0975336  0.76124972 0.24693797 0.13813169]\n",
      " [0.33144656 0.08299957 0.67197708 0.8065938 ]\n",
      " [0.98274191 0.63566073 0.21592326 0.54902743]\n",
      " [0.54555996 0.23407607 0.11372584 0.49965927]\n",
      " [0.15210842 0.53268608 0.38700677 0.68832738]\n",
      " [0.37292716 0.94616004 0.77735792 0.6080343 ]\n",
      " [0.61523204 0.6429876  0.26848351 0.75015615]\n",
      " [0.28683049 0.70937606 0.06478678 0.68985848]] \n",
      "\n",
      "\n",
      "\n",
      "Check for big matrix: \n",
      "Ok\n"
     ]
    }
   ],
   "source": [
    "Seeds = np.array([np.random.RandomState(i**2 + 4*i +7) for i in range(5)])\n",
    "Test0 = Seeds[0].uniform(size=(6,6))  #Квадратная матрица\n",
    "Test1 = Seeds[1].uniform(size=(3,7))  #Прямоугольная, столбцов больше\n",
    "Test2 = Seeds[2].uniform(size=(8,4))  #Прямоугольная, строк больше\n",
    "Test3 = Seeds[3].uniform(size=(250, 300))  #Просто большая, ее выводить не будем, сравним с помощью assert_allclose()\n",
    "\n",
    "R_0, U_0 = qr_decomp_matrix_R(Test0)\n",
    "Q_t_0 = qr_decomp_matrix_Q(Test0, U_0)\n",
    "\n",
    "print('Initial matrix: \\n', Test0, '\\n')\n",
    "print('Q @ R: \\n', Q_t_0.T @ R_0, '\\n\\n\\n')\n",
    "assert_allclose(Test0, Q_t_0.T @ R_0, atol=1e-10)\n",
    "\n",
    "#------------------------------------------------------------\n",
    "\n",
    "R_1, U_1 = qr_decomp_matrix_R(Test1)\n",
    "Q_t_1 = qr_decomp_matrix_Q(Test1, U_1)\n",
    "\n",
    "print('Initial matrix: \\n', Test1, '\\n')\n",
    "print('Q @ R: \\n', Q_t_1.T @ R_1, '\\n\\n\\n')\n",
    "assert_allclose(Test1, Q_t_1.T @ R_1, atol=1e-10)\n",
    "\n",
    "#------------------------------------------------------------\n",
    "\n",
    "R_2, U_2 = qr_decomp_matrix_R(Test2)\n",
    "Q_t_2 = qr_decomp_matrix_Q(Test2, U_2)\n",
    "\n",
    "print('Initial matrix: \\n', Test2, '\\n')\n",
    "print('Q @ R: \\n', Q_t_2.T @ R_2, '\\n\\n\\n')\n",
    "assert_allclose(Test2, Q_t_2.T @ R_2, atol=1e-10)\n",
    "\n",
    "#------------------------------------------------------------\n",
    "\n",
    "R_3, U_3 = qr_decomp_matrix_R(Test3)\n",
    "Q_t_3 = qr_decomp_matrix_Q(Test3, U_3)\n",
    "\n",
    "print('Check for big matrix: ')\n",
    "assert_allclose(Test3, Q_t_3.T @ R_3, atol=1e-10)\n",
    "print('Ok')  #Т.к. эта функция ничего не возвращает, но если все ок то пропускает код дальше, можно написать именно так, print после неё"
   ]
  },
  {
   "cell_type": "code",
   "execution_count": null,
   "metadata": {},
   "outputs": [],
   "source": []
  }
 ],
 "metadata": {
  "kernelspec": {
   "display_name": "Python 3",
   "language": "python",
   "name": "python3"
  },
  "language_info": {
   "codemirror_mode": {
    "name": "ipython",
    "version": 3
   },
   "file_extension": ".py",
   "mimetype": "text/x-python",
   "name": "python",
   "nbconvert_exporter": "python",
   "pygments_lexer": "ipython3",
   "version": "3.7.1"
  }
 },
 "nbformat": 4,
 "nbformat_minor": 2
}
