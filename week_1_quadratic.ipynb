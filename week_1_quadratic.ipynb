{
 "cells": [
  {
   "cell_type": "markdown",
   "metadata": {},
   "source": [
    "## Solve a quadratic equation, $x^2 + b x + c = 0$.\n",
    "\n",
    "\n",
    "Write a function which receives $b$ and $c$, the coefficients of a monic quadratic polynomial, $x^2 + b x + c$, and returns the pair of its roots. Your function should always return two values, even if quadratic has a double root.\n",
    "\n",
    "For example, given a quadratic $x^2 - 2x + 1$, your function should return a pair of $(1, 1)$. Of course, in floating point, your answers may differ from an exact unity.\n",
    "\n",
    "Your function also must correctly handle complex roots (to this end, you might need the `cmath` module from the standard library)."
   ]
  },
  {
   "cell_type": "code",
   "execution_count": 1,
   "metadata": {},
   "outputs": [],
   "source": [
    "def solve_quad(b, c):\n",
    "    \"\"\"Solve a quadratic equation, x**2 + bx + c = 0.\n",
    "    \n",
    "    Parameters\n",
    "    ----------\n",
    "    b, c : float\n",
    "       Coefficients\n",
    "       \n",
    "    Returns\n",
    "    -------\n",
    "    x1, x2 : float or complex\n",
    "       Roots.\n",
    "    \"\"\"\n",
    "    # ... enter your code here ...\n",
    "    import cmath\n",
    "    \n",
    "    rtol = 1e-6                                                            #это было число почти пальцем в небо, оно будет использоваться\n",
    "    d = b**2 - 4 * c\n",
    "    \n",
    "    if (b**2)/(4*c) < rtol and d != 0:                                     #когда 4*c и b**2 будут сильно отличаться(на самом деле если начать раскладывать в Тейлора, то следующие \n",
    "        D_small = - cmath.sqrt(-1) * (b**2) / (4 * cmath.sqrt(c))          #члены будут уже слишком маленькими, ими можно пренебречь); у нас в тестах, конечно, не реализуется первый if,\n",
    "        x1 = (-b - cmath.sqrt(-4 * c) - D_small)/2                         #но ничего не мешает быть такому уравнению\n",
    "        x2 = (-b + cmath.sqrt(-4 * c) + D_small)/2\n",
    "    \n",
    "    elif (4*c)/b**2 < rtol and d != 0:\n",
    "        D_small = (- 2 * c / b)                                            #D_small это малая часть от дискриминанта; ее нужно отдельно считать, иначе потеряем это значение\n",
    "        x1 = -b - D_small / 2                                              #причём корни уже преобразованы так, что один маленький, другой порядка b(либо 2c**0.5)\n",
    "        x2 = D_small / 2\n",
    "    \n",
    "    else:\n",
    "        D_small = cmath.sqrt(b**2 - 4 * c)\n",
    "        x1 = (-b - D_small)/2\n",
    "        x2 = (-b + D_small)/2\n",
    "    \n",
    "    return x1, x2"
   ]
  },
  {
   "cell_type": "markdown",
   "metadata": {},
   "source": [
    "Test the your function on several examples against a calculation by hand. Once you're sure that your function works, try these five test cases below. \n",
    "\n",
    "Note that the last two test cases are special: they test whether your function handles extreme cases where a too simple approach is prone to a catastrophic cancellation. Make sure your function passes all five tests.\n",
    "\n",
    "This exercise is graded, each test case contributes a 20% of the grade. "
   ]
  },
  {
   "cell_type": "code",
   "execution_count": 2,
   "metadata": {},
   "outputs": [],
   "source": [
    "from numpy import allclose"
   ]
  },
  {
   "cell_type": "code",
   "execution_count": 3,
   "metadata": {},
   "outputs": [],
   "source": [
    "variants = [{'b': 4.0, 'c': 3.0},\n",
    "            {'b': 2.0, 'c': 1.0},\n",
    "            {'b': 0.5, 'c': 4.0},\n",
    "            {'b': 1e10, 'c': 3.0},\n",
    "            {'b': -1e10, 'c': 4.0},]"
   ]
  },
  {
   "cell_type": "code",
   "execution_count": 4,
   "metadata": {},
   "outputs": [
    {
     "name": "stdout",
     "output_type": "stream",
     "text": [
      "Test1 :  True\n",
      "Roots : (-3+0j), (-1+0j) \n",
      "\n",
      "Test2 :  True\n",
      "Roots : (-1+0j), (-1+0j) \n",
      "\n",
      "Test3 :  True\n",
      "Roots : (-0.25-1.984313483298443j), (-0.25+1.984313483298443j) \n",
      "\n",
      "Test4 :  True\n",
      "Roots : -10000000000.0, -3e-10 \n",
      "\n",
      "Test5 :  True\n",
      "Roots : 10000000000.0, 4e-10 \n",
      "\n"
     ]
    }
   ],
   "source": [
    "i = 1\n",
    "for var in variants:\n",
    "    x1, x2 = solve_quad(**var)\n",
    "    print(f'Test{i} : ', allclose(x1*x2, var['c']))\n",
    "    print(f'Roots : {x1}, {x2} \\n')\n",
    "    i += 1"
   ]
  },
  {
   "cell_type": "code",
   "execution_count": null,
   "metadata": {},
   "outputs": [],
   "source": []
  }
 ],
 "metadata": {
  "kernelspec": {
   "display_name": "Python 3",
   "language": "python",
   "name": "python3"
  },
  "language_info": {
   "codemirror_mode": {
    "name": "ipython",
    "version": 3
   },
   "file_extension": ".py",
   "mimetype": "text/x-python",
   "name": "python",
   "nbconvert_exporter": "python",
   "pygments_lexer": "ipython3",
   "version": "3.7.1"
  }
 },
 "nbformat": 4,
 "nbformat_minor": 2
}
