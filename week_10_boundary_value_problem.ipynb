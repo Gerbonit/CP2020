{
 "cells": [
  {
   "cell_type": "markdown",
   "metadata": {},
   "source": [
    "# Boundary value problem\n",
    "\n",
    "### In general case:\n",
    "\n",
    "$L[y]=y''+p(x)y'+q(x)y=f(x)$\n",
    "\n",
    "$l_a[y]=\\alpha_0y(a)+\\alpha_1y'(a)=A$\n",
    "\n",
    "$l_b[y]=\\beta_0y(b)+\\beta_1y'(b)=B$\n",
    "\n",
    "for $x\\in[a,b]$\n",
    "\n",
    "## 1. Consider the following boundary value problem:\n",
    "\n",
    "$\\frac{d^2y}{dx^2}-\\frac{dy}{dx}\\ln(x)-2y=1$ for $x \\in [0.5,1.5]$\n",
    "\n",
    "### with the boundary conditions:\n",
    "\n",
    "$y(0.5)+y'(0.5)=1$, $y(1.5)-y'(1.5)=0$\n",
    "\n",
    "1.1. Solve this problem using finite difference method of the second order. Use the uniform grid. Is this method stable for step size $h=0.125$? Find number of grid points required to achieve accuracy of the order of 1e-6.\n",
    "\n",
    "### *Don't forget to include the boundary conditions!*\n",
    "\n",
    "1.2. Use the first order one-sided numerical approximation for the first derivative and write a new scheme. Find number of grid points required to achieve accuracy of the order of 1e-6.\n",
    "\n",
    "1.3. Plot the solutions of both methods on the same figure. Compare results and discuss differences (if occurs)."
   ]
  },
  {
   "cell_type": "markdown",
   "metadata": {},
   "source": [
    "Посмотрим, как выглядит система для уравнений второго порядка(second order):\n",
    "\n",
    "Вторую производную приближаем так: $y''(x_k) = y_k'' = \\frac{y_{k+1} - 2y_k + y_{k-1}}{h^2} + O(h^2)$\n",
    "\n",
    "Первую так: $y_k' = \\frac{y_{k+1} - y_{k-1}}{2h} + O(h^2)$\n",
    "\n",
    "Уравнение перепишется в виде $\\frac{y_{k+1} - 2 y_k + y_{k-1}}{h^2} + p_k\\frac{y_{k+1} - y_{k-1}}{2h} + q_k y_k = f_k $, для $k \\in [1, ..., N-1]$\n",
    "\n",
    "А граничные условия: $(\\alpha_0 || \\beta_0) y_{0, n} + (\\alpha_1 || \\beta_1) \\frac{-1.5 y_{0, n} + 2 y_{1, n-1} - 0.5 y_{2, n-2}}{\\pm h} = (A || B)$, где производная записана через одностороннюю трехточечную схему\n",
    "\n",
    "-\n",
    "\n",
    "Во случае схемы первого порядка производную нужно аппроксимировать так: $y_k' = \\frac{y_{k+1} - y_k}{h} + O(h)$\n",
    "\n",
    "И тогда уравнение будет такое: $\\frac{y_{k+1} - 2 y_k + y_{k-1}}{h^2} + p_k\\frac{y_{k+1} - y_k}{h} + q_k y_k = f_k $, для $k \\in [1, ..., N-1]$\n",
    "\n",
    "А граничные условия: $(\\alpha_0 || \\beta_0) y_{0, n} + (\\alpha_1 || \\beta_1) \\frac{y_{1, n-1} - y_{0, n}}{\\pm h} = (A || B)$"
   ]
  },
  {
   "cell_type": "code",
   "execution_count": 28,
   "metadata": {},
   "outputs": [],
   "source": [
    "import numpy as np\n",
    "import matplotlib.pyplot as plt\n",
    "from scipy.linalg import solve\n",
    "\n",
    "def p(x):\n",
    "    return -np.log(x)\n",
    "def q(x):\n",
    "    return -2\n",
    "def f(x):\n",
    "    return 1\n",
    "a = 0.5\n",
    "b = 1.5\n",
    "alpha = [1, 1]\n",
    "beta = [1, -1]\n",
    "A = 1\n",
    "B = 0\n",
    "\n",
    "#1.1.\n",
    "def SecondOrderScheme(a,b,A,B,alpha,beta,P,Q,f,N=100):\n",
    "    # in:\n",
    "    # a,b - float, limits of x, N - int, number of grid points\n",
    "    # A,B - float, boundary values\n",
    "    # alpha, beta - array of float, coefficients for boundary conditions in general case\n",
    "    # P(x), Q(x), f(x) - functions from general equation\n",
    "    \n",
    "    #you can construct matrix of the system and use scipy.linalg.solve method to solve it: y=solve(M,f)\n",
    "    \n",
    "    # out: \n",
    "    # y - array of float, solution of the BVP\n",
    "    \n",
    "    grid = np.linspace(a, b, N)\n",
    "    h = grid[1] - grid[0]\n",
    "    \n",
    "    r = np.array([f(x) for x in grid]) # правая часть\n",
    "    p = np.array([P(x) for x in grid]) # значение P(x) в узлах\n",
    "    q = np.array([Q(x) for x in grid]) # значение Q(x) в узлах\n",
    "    \n",
    "    r[0] = A\n",
    "    r[-1] = B  # граничные условия, правая часть\n",
    "    \n",
    "    M = np.zeros((N,N))\n",
    "    \n",
    "    \n",
    "    \n",
    "    for i in range(1, N-1):\n",
    "        M[i, i-1] = 1 / h**2 - p[i] / (2*h)\n",
    "        M[i, i] = -2 / h**2 + q[i]             # внутренние точки интервала\n",
    "        M[i, i+1] = 1 / h**2 + p[i] / (2*h)\n",
    "    \n",
    "    M[0, 0] = alpha[0] - 1.5 * alpha[1] / h    # левая граница\n",
    "    M[0, 1] = 2 * alpha[1] / h\n",
    "    M[0, 2] = -0.5 * alpha[1] / h\n",
    "    \n",
    "    M[-1, -1] = beta[0] - 1.5 * beta[1] / (-h)    # правая граница\n",
    "    M[-1, -2] = 2 * beta[1] / (-h)\n",
    "    M[-1, -3] = -0.5 * beta[1] / (-h)\n",
    "    \n",
    "    y = solve(M, r)\n",
    "    \n",
    "    return y\n",
    "\n",
    "#1.2.\n",
    "def FirstOrderScheme(a,b,A,B,alpha,beta,P,Q,f,N=100):\n",
    "    # in:\n",
    "    # a,b - float, limits of x, N - int, number of grid points\n",
    "    # A,B - float, boundary values\n",
    "    # alpha, beta - array of float, coefficients for boundary conditions in general case\n",
    "    # p(x), g(x), f(x) - functions from general equation\n",
    "    \n",
    "    #you can construct matrix of the system and use scipy.linalg.solve method to solve it: y=solve(M,f)\n",
    "    \n",
    "    # out: \n",
    "    # y - array of float, solution of the BVP\n",
    "    \n",
    "    grid = np.linspace(a, b, N)\n",
    "    h = grid[1] - grid[0]\n",
    "    \n",
    "    r = np.array([f(x) for x in grid]) # правая часть\n",
    "    p = np.array([P(x) for x in grid]) # значение P(x) в узлах\n",
    "    q = np.array([Q(x) for x in grid]) # значение Q(x) в узлах\n",
    "    \n",
    "    r[0] = A\n",
    "    r[-1] = B  # граничные условия, правая часть\n",
    "    \n",
    "    M = np.zeros((N,N))\n",
    "    \n",
    "    \n",
    "    \n",
    "    for i in range(1, N-1):\n",
    "        M[i, i-1] = 1 / h**2\n",
    "        M[i, i] = -2 / h**2 + q[i] - p[i] / h   # внутренние точки интервала\n",
    "        M[i, i+1] = 1 / h**2 + p[i] / h\n",
    "    \n",
    "    M[0, 0] = alpha[0] - alpha[1] / h    # левая граница\n",
    "    M[0, 1] = alpha[1] / h\n",
    "    \n",
    "    M[-1, -1] = beta[0] - beta[1] / (-h)    # правая граница\n",
    "    M[-1, -2] = beta[1] / (-h)\n",
    "    \n",
    "    y = solve(M, r)\n",
    "    \n",
    "    return y"
   ]
  },
  {
   "cell_type": "code",
   "execution_count": 12,
   "metadata": {},
   "outputs": [
    {
     "name": "stdout",
     "output_type": "stream",
     "text": [
      "Кол-во точек для достижения точности 0.01 в second order scheme N = 397\n",
      "Кол-во точек для достижения точности 0.03 в first order scheme N = 12673\n"
     ]
    },
    {
     "data": {
      "image/png": "[encoded data removed]",
      "text/plain": [
       "<Figure size 432x288 with 1 Axes>"
      ]
     },
     "metadata": {
      "needs_background": "light"
     },
     "output_type": "display_data"
    }
   ],
   "source": [
    "N = 100                                  # здесь сделаны оба метода для точности 1e-2(иначе у меня просто умирал ноут), а в следующей ячейке будет про h = 0.125 для second order\n",
    "eps = 1e-2                               # FirstOrder работает достаточно долго, поэтому придется подождать\n",
    "\n",
    "while(True):\n",
    "    y = SecondOrderScheme(a,b,A,B,alpha,beta,p,q,f,N)\n",
    "\n",
    "    y_new = SecondOrderScheme(a,b,A,B,alpha,beta,p,q,f,2*N - 1)  # шаг новой сетки в два раза меньше\n",
    "    \n",
    "    maxabs = 0\n",
    "    \n",
    "    for i in range(N):\n",
    "        delt = np.abs(y[i] - y_new[2 * i])\n",
    "        if delt > maxabs: maxabs = delt\n",
    "    #print(N, maxabs)                         # если раскомментировать эту строчку, то можно будет увидеть, что ошибка спадает как h**2, то есть на каждой итерации падает в ~4 раза\n",
    "    if maxabs < eps:\n",
    "        N = 2*N - 1    # если максимальное отклонение в старых узлах уже не будет превышать нашей точности, можно прекращать, и брать в качестве решения самую последнюю сетку\n",
    "        break\n",
    "    N = 2*N - 1\n",
    "\n",
    "Y_second = y_new.copy()\n",
    "N_second = N\n",
    "X_second = np.linspace(a, b, N_second)\n",
    "print(f'Кол-во точек для достижения точности {eps} в second order scheme N = {N_second}')\n",
    "\n",
    "N = 100\n",
    "while(True):\n",
    "    y = FirstOrderScheme(a,b,A,B,alpha,beta,p,q,f,N)\n",
    "\n",
    "    y_new = FirstOrderScheme(a,b,A,B,alpha,beta,p,q,f,2*N - 1)  # шаг новой сетки в два раза меньше\n",
    "    \n",
    "    maxabs = 0\n",
    "    \n",
    "    for i in range(N):\n",
    "        delt = np.abs(y[i] - y_new[2 * i])\n",
    "        if delt > maxabs: maxabs = delt\n",
    "    #print(N, maxabs)                   # если раскомментировать эту строчку, то можно будет увидеть, что ошибка спадает как h, то есть на каждой итерации падает в ~2 раза\n",
    "    if maxabs < 3 * eps:\n",
    "        N = 2*N - 1    # если максимальное отклонение в старых узлах уже не будет превышать нашей точности, можно прекращать, и брать в качестве решения самую последнюю сетку\n",
    "        break\n",
    "    N = 2*N - 1\n",
    "\n",
    "Y_first = y_new\n",
    "N_first = N\n",
    "X_first = np.linspace(a, b, N_first)\n",
    "print(f'Кол-во точек для достижения точности {3 * eps} в first order scheme N = {N_first}')    # он нереально долго считает\n",
    "\n",
    "plt.plot(X_first, Y_first, label='First order scheme')\n",
    "plt.plot(X_second, Y_second, label='Second order scheme')\n",
    "plt.legend()\n",
    "plt.show()"
   ]
  },
  {
   "cell_type": "markdown",
   "metadata": {},
   "source": [
    "Конечно оба метода сошлись ~к одному и тому же, но для first order это обошлось гораздо большим кол-вом узлов(и то, я остановил его на более плохой точности, иначе их было бы в 4 раза больше, что не посчиталось бы у меня)\n",
    "\n",
    "Если смотреть на то, как составляется матрица для системы, то можно заметить, что диагональный элемент по модулю больше, чем сумма модулей соседних по строчке элементов, то есть она диагонально доминирующая"
   ]
  },
  {
   "cell_type": "code",
   "execution_count": 35,
   "metadata": {},
   "outputs": [
    {
     "data": {
      "image/png": "[encoded data removed]",
      "text/plain": [
       "<Figure size 432x288 with 1 Axes>"
      ]
     },
     "metadata": {
      "needs_background": "light"
     },
     "output_type": "display_data"
    }
   ],
   "source": [
    "N_small = 9    # h = 0.125\n",
    "\n",
    "X = np.linspace(a, b, N_small)\n",
    "Y = SecondOrderScheme(a,b,A,B,alpha,beta,p,q,f,N_small)\n",
    "\n",
    "plt.plot(X, Y, label='N = 9, h = 0.125')\n",
    "plt.plot(X_second, Y_second, label='More accurate solution')   # сравним с более хорошим решением\n",
    "plt.legend()\n",
    "plt.show()"
   ]
  },
  {
   "cell_type": "markdown",
   "metadata": {},
   "source": [
    "Возможно вид кривой не сильно изменился(т.е. если нам важен примерный вид решения, то сойдет), но сами значения далеки от истины"
   ]
  },
  {
   "cell_type": "markdown",
   "metadata": {},
   "source": [
    "# 2. Consider the following boundary value problem:\n",
    "\n",
    "$\\frac{d^2y}{dx^2}+2\\frac{dy}{dx}-3xy=\\frac{2-8x}{x^3}$ for $x \\in [1,2]$\n",
    "\n",
    "### with the boundary conditions:\n",
    "\n",
    "$y(1)=1$, $y(2)=0.5$\n",
    "\n",
    "2.1. Solve this problem using finite difference method of the second order. Find number of grid points required to achieve accuracy of the order of 1e-6.\n",
    "\n",
    "2.2. Solve this problem using Galerkin method with power basis functions. Find number of grid points required to achieve accuracy of the order of 1e-6.\n",
    "\n",
    "2.3. Plot the solutions of both methods on the same figure. Compare results and discuss differences (if occurs)."
   ]
  },
  {
   "cell_type": "code",
   "execution_count": 36,
   "metadata": {},
   "outputs": [
    {
     "name": "stdout",
     "output_type": "stream",
     "text": [
      "Кол-во точек для достижения точности 1e-06 в second order scheme N = 397\n"
     ]
    },
    {
     "data": {
      "image/png": "[encoded data removed]",
      "text/plain": [
       "<Figure size 432x288 with 1 Axes>"
      ]
     },
     "metadata": {
      "needs_background": "light"
     },
     "output_type": "display_data"
    }
   ],
   "source": [
    "# Вначале решим с помощью метода второго порядка, зададим необходимые переменные и функции для уравнения:\n",
    "def p(x):\n",
    "    return 2\n",
    "def q(x):\n",
    "    return -3 * x\n",
    "def f(x):\n",
    "    return (2 - 8 * x) / x**3\n",
    "a = 1\n",
    "b = 2\n",
    "alpha = [1, 0]\n",
    "beta = [1, 0]\n",
    "A = 1\n",
    "B = 0.5\n",
    "\n",
    "N = 100\n",
    "eps = 1e-6\n",
    "\n",
    "while(True):\n",
    "    y = SecondOrderScheme(a,b,A,B,alpha,beta,p,q,f,N)\n",
    "\n",
    "    y_new = SecondOrderScheme(a,b,A,B,alpha,beta,p,q,f,2*N - 1)  # шаг новой сетки в два раза меньше\n",
    "    \n",
    "    maxabs = 0\n",
    "    \n",
    "    for i in range(N):\n",
    "        delt = np.abs(y[i] - y_new[2 * i])\n",
    "        if delt > maxabs: maxabs = delt\n",
    "    #print(N, maxabs)\n",
    "    if maxabs < eps:\n",
    "        N = 2*N - 1    # если максимальное отклонение в старых узлах уже не будет превышать нашей точности, можно прекращать, и брать в качестве решения самую последнюю сетку\n",
    "        break\n",
    "    N = 2*N - 1\n",
    "\n",
    "X = np.linspace(a, b, N)\n",
    "Y = y_new\n",
    "print(f'Кол-во точек для достижения точности {eps} в second order scheme N = {N}')\n",
    "\n",
    "plt.plot(X, Y, label='Second order scheme solution')\n",
    "plt.legend()\n",
    "plt.show()"
   ]
  },
  {
   "cell_type": "code",
   "execution_count": null,
   "metadata": {},
   "outputs": [],
   "source": [
    "# теперь попробуем Галёркина"
   ]
  }
 ],
 "metadata": {
  "kernelspec": {
   "display_name": "Python 3",
   "language": "python",
   "name": "python3"
  },
  "language_info": {
   "codemirror_mode": {
    "name": "ipython",
    "version": 3
   },
   "file_extension": ".py",
   "mimetype": "text/x-python",
   "name": "python",
   "nbconvert_exporter": "python",
   "pygments_lexer": "ipython3",
   "version": "3.7.1"
  }
 },
 "nbformat": 4,
 "nbformat_minor": 2
}
