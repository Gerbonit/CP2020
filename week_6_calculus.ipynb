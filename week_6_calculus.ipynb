{
 "cells": [
  {
   "cell_type": "markdown",
   "metadata": {},
   "source": [
    "# Part I. One-sided finite differences"
   ]
  },
  {
   "cell_type": "markdown",
   "metadata": {},
   "source": [
    "Write a function, `deriv`, which computes a derivative of its argument at a given point, $x$, using a one-sided finite difference rule with a given step side $h$, with the approximation order of $O(h^2)$. "
   ]
  },
  {
   "cell_type": "code",
   "execution_count": 139,
   "metadata": {},
   "outputs": [
    {
     "name": "stdout",
     "output_type": "stream",
     "text": [
      "-459.41840631014105\n"
     ]
    }
   ],
   "source": [
    "def deriv(f, x, h):\n",
    "    \"\"\" Compute a derivative of `f` at point `x` with step size `h`.\n",
    "    \n",
    "    Compute the derivative using the one-sided rule of the approximation order of $O(h^2)$.\n",
    "    \n",
    "    Parameters\n",
    "    ----------\n",
    "    f : callable\n",
    "        The function to differentiate\n",
    "    x : float\n",
    "        The point to compute the derivative at.\n",
    "    h : float\n",
    "        The step size for the finite different rule.\n",
    "        \n",
    "    Returns\n",
    "    -------\n",
    "    fder : derivative of f(x) at point x using the step size h.\n",
    "    \"\"\"\n",
    "    # ... ENTER YOUR CODE HERE ...\n",
    "    Df = (-1.5 * f(x) + 2 * f(x + h) - 0.5 * f(x + 2*h))/h    # для коэффициентов надо решить систему, чтобы занулить в разложении все члены до O(h**3), кроме самой производной\n",
    "    \n",
    "    return Df\n",
    "print(np.log(3e-200))"
   ]
  },
  {
   "cell_type": "markdown",
   "metadata": {},
   "source": [
    "#### Test I.1\n",
    "\n",
    "Test your function on a simple test case: differentiate $f(x) = x^3$ at $x=0$. Comment on whether your results are consistent with the expected value of $f'(x) = 0$ and on an expected scaling with $h\\to 0$.\n",
    "\n",
    " (10% of the total grade)"
   ]
  },
  {
   "cell_type": "code",
   "execution_count": 122,
   "metadata": {},
   "outputs": [
    {
     "name": "stdout",
     "output_type": "stream",
     "text": [
      " 0.01 -- -0.0002\n",
      "0.001 --  -2e-06\n",
      "0.0001 --  -2e-08\n",
      "1e-107 -- -2.006e-214\n"
     ]
    }
   ],
   "source": [
    "x = 0\n",
    "for h in [1e-2, 1e-3, 1e-4, 1e-107]:\n",
    "    err = deriv(lambda x: x**3, x, h) - 0.0\n",
    "    print(\"%5g -- %7.4g\" % (h, err))"
   ]
  },
  {
   "cell_type": "markdown",
   "metadata": {},
   "source": [
    "Видно, что ошибка(истинное значение должно быть нулем) $\\sim$ h**2\n",
    "\n",
    "Однааако, если мы слишком перетрудимся с уменьшением шага, у нас начнет все ломаться из-за погрешности вычислений(последний шаг - 1e-107 - ну просто излишне мал)"
   ]
  },
  {
   "cell_type": "markdown",
   "metadata": {},
   "source": [
    "### Test I.2\n",
    "\n",
    "Now use a slightly more complicated function, $f(x) = x^2 \\log{x}$, evaluate the derivative at $x=1$ using your one-sided rule and a two-point one-sided rule. Roughly estimate the value of $h$ where the error stops decreasing, for these two schemes. \n",
    "(15% of the total grade) --я так понял, тут имеют ввиду двух- и трехточечную схемы"
   ]
  },
  {
   "cell_type": "code",
   "execution_count": 123,
   "metadata": {},
   "outputs": [],
   "source": [
    "from math import log\n",
    "\n",
    "def f(x):\n",
    "    return x**2 * log(x)\n",
    "    \n",
    "def fder(x):\n",
    "    return x * (2.*log(x) + 1)"
   ]
  },
  {
   "cell_type": "code",
   "execution_count": 151,
   "metadata": {},
   "outputs": [
    {
     "data": {
      "image/png": "[encoded data removed]",
      "text/plain": [
       "<Figure size 432x288 with 1 Axes>"
      ]
     },
     "metadata": {
      "needs_background": "light"
     },
     "output_type": "display_data"
    }
   ],
   "source": [
    "\n",
    "import numpy as np\n",
    "import matplotlib.pyplot as plt\n",
    "\n",
    "def One_sided(f, x, h):\n",
    "    Df = (f(x+h) - f(x)) / h\n",
    "    return Df\n",
    "\n",
    "h_range = np.logspace(-12, -4, 100)  #уже приблизил к примерным оптимальным h\n",
    "\n",
    "err_three = [np.abs(deriv(f, 1, h) - fder(1)) for h in h_range]\n",
    "err_two = [np.abs(One_sided(f, 1, h) - fder(1)) for h in h_range]\n",
    "\n",
    "plt.figure()\n",
    "plt.xscale('log')\n",
    "plt.yscale('log')\n",
    "plt.xlabel('h')\n",
    "plt.ylabel('|Df - f\\'|')\n",
    "\n",
    "plt.plot(h_range, err_three, label='Three-point')\n",
    "plt.plot(h_range, err_two, label='Two-point')\n",
    "plt.legend()\n",
    "plt.show()"
   ]
  },
  {
   "cell_type": "markdown",
   "metadata": {},
   "source": [
    "Для two-point, h около 1e-8\n",
    "\n",
    "Для three-point, h около 5e-6 - и при этом точность лучше на 2-3 порядка"
   ]
  },
  {
   "cell_type": "markdown",
   "metadata": {},
   "source": [
    "### Test I.3 \n",
    "\n",
    "Now try differentiating $x^2 \\log(x)$ at $x=0$. Use the three-point one-sided rule. Note that to evaluate the function at zero, you need to special-case this value. Check the scaling of the error with $h$, explain your results. \n",
    "(25% of the total grade)"
   ]
  },
  {
   "cell_type": "code",
   "execution_count": 156,
   "metadata": {},
   "outputs": [
    {
     "name": "stdout",
     "output_type": "stream",
     "text": [
      "0.010000 -- -0.01386\n",
      "0.001000 -- -0.001386\n",
      "0.000100 -- -0.0001386\n",
      "0.000000 -- -1.386e-160\n"
     ]
    }
   ],
   "source": [
    "def f(x):\n",
    "    if x == 0:\n",
    "        # the limit of $x^2 log(x)$ at $x-> 0$ is zero, even though log(x) is undefined at x=0\n",
    "        return 0.0\n",
    "    else:\n",
    "        return x**2 * log(x)\n",
    "    \n",
    "def fder(x):\n",
    "    if x == 0:\n",
    "        return 0.0\n",
    "    else:\n",
    "        return x*(2*log(x) + 1)\n",
    "\n",
    "x = 0\n",
    "for h in [1e-2, 1e-3, 1e-4, 1e-160]:\n",
    "    err = deriv(f, x, h) - fder(x)\n",
    "    print(\"%5f -- %7.4g\" % (h, err))"
   ]
  },
  {
   "cell_type": "markdown",
   "metadata": {},
   "source": [
    "Выпишем нашу формулу для трехточечной схемы, учитывая, что х = 0, и f(x) = 0:\n",
    "\n",
    "$ Df = \\frac{2 f(h) - 0.5 f(2h)}{h} = \\frac{2 h^2 ln(h) - 0.5 (2h)^2 ln(2h)}{h}  $\n",
    "\n",
    "Учитывая, что $ ln(2h) = ln(2) + ln(h) $:\n",
    "\n",
    "$ Df = \\frac{-2h^2 ln(2)}{h} = -2ln(2) * h$   ---получается, что производная линейно зависит от h для нашей функции, поэтому у нас получается такой результат\n",
    "\n",
    "Эта $-2ln(2)$ как раз и равна $1.386$"
   ]
  },
  {
   "cell_type": "markdown",
   "metadata": {},
   "source": [
    "Если начать оценивать оптимальную h и минимальную ошибку, то получится, что оптимальное h -> 0, и эпсилон тоже, вот такой же график ошибки, как для предыдущего пункта:"
   ]
  },
  {
   "cell_type": "code",
   "execution_count": 157,
   "metadata": {},
   "outputs": [
    {
     "data": {
      "image/png": "[encoded data removed]",
      "text/plain": [
       "<Figure size 432x288 with 1 Axes>"
      ]
     },
     "metadata": {
      "needs_background": "light"
     },
     "output_type": "display_data"
    }
   ],
   "source": [
    "h_range = np.logspace(-100, -4, 10000)  #уже приблизил к примерным оптимальным h\n",
    "\n",
    "err_three = [np.abs(deriv(f, 0, h) - fder(0)) for h in h_range]\n",
    "err_two = [np.abs(One_sided(f, 0, h) - fder(0)) for h in h_range]\n",
    "\n",
    "plt.figure()\n",
    "plt.xscale('log')\n",
    "plt.yscale('log')\n",
    "plt.xlabel('h')\n",
    "plt.ylabel('|Df - f\\'|')\n",
    "\n",
    "plt.plot(h_range, err_three, label='Three-point')\n",
    "plt.plot(h_range, err_two, label='Two-point')\n",
    "plt.legend()\n",
    "plt.show()"
   ]
  },
  {
   "cell_type": "markdown",
   "metadata": {},
   "source": [
    "# Part II. Midpoint rule "
   ]
  },
  {
   "cell_type": "markdown",
   "metadata": {},
   "source": [
    "Write a function which computes a definite integral using the midpoint rule up to a given error, $\\epsilon$. Estimate the error by comparing the estimates of the integral at $N$ and $2N$ elementary intervals. "
   ]
  },
  {
   "cell_type": "code",
   "execution_count": 126,
   "metadata": {},
   "outputs": [],
   "source": [
    "def midpoint_rule(func, a, b, eps):\n",
    "    \"\"\" Calculate the integral of f from a to b using the midpoint rule.\n",
    "    \n",
    "    Parameters\n",
    "    ----------\n",
    "    func : callable\n",
    "        The function to integrate.\n",
    "    a : float\n",
    "        The lower limit of integration.\n",
    "    b : float\n",
    "        The upper limit of integration.\n",
    "    eps : float\n",
    "        The target accuracy of the estimate.\n",
    "        \n",
    "    Returns\n",
    "    -------\n",
    "    integral : float\n",
    "        The estimate of $\\int_a^b f(x) dx$.\n",
    "    intervals : int\n",
    "        Number of intervals in finite sum\n",
    "    \"\"\"\n",
    "    # ... ENTER YOUR CODE HERE ...\n",
    "    N = 100\n",
    "    step_n = (b - a) / N\n",
    "    step_2n = (b - a) / (2*N)\n",
    "    I_n = 0\n",
    "    I_2n = 0\n",
    "    for i in range(N):\n",
    "        I_n += func(a + step_n/2 + step_n * i) * step_n       #два первых шага сетки\n",
    "    for i in range(2 * N):\n",
    "        I_2n += func(a + step_2n/2 + step_2n * i) * step_2n\n",
    "        \n",
    "    \n",
    "    while np.abs(I_2n - I_n) > eps:   # в случае невыполнения условия, I_2n становится I_n, для I_2n увеличиваю число узлов в два раза\n",
    "        I_n = I_2n\n",
    "        step_2n /= 2\n",
    "        I_2n = 0\n",
    "        N *= 2\n",
    "        \n",
    "        for i in range(2 * N):\n",
    "            I_2n += func(a + step_2n/2 + step_2n * i) * step_2n\n",
    "        \n",
    "    return I_n, N   # возвращаю сразу и кол-во интервалов\n",
    "    "
   ]
  },
  {
   "cell_type": "markdown",
   "metadata": {},
   "source": [
    "### Test II.1\n",
    "\n",
    "Test your midpoint rule on a simple integral, which you can calculate by paper and pencil.\n",
    "\n",
    "Compare the rate of convergence to the expected $O(N^{-2})$ scaling by studying the number of intervals required for a given accuracy $\\epsilon$.\n",
    "\n",
    "Compare the numerical results to the value you calculated by hand. Does the deviation agree with your estimate of the numerical error?\n",
    "(20% of the total grade)\n"
   ]
  },
  {
   "cell_type": "code",
   "execution_count": 127,
   "metadata": {
    "scrolled": false
   },
   "outputs": [
    {
     "name": "stdout",
     "output_type": "stream",
     "text": [
      "Коэффициент пропорциональности error от N**-2  =  0.08332852205805708\n"
     ]
    },
    {
     "data": {
      "image/png": "[encoded data removed]",
      "text/plain": [
       "<Figure size 1080x432 with 3 Axes>"
      ]
     },
     "metadata": {
      "needs_background": "light"
     },
     "output_type": "display_data"
    }
   ],
   "source": [
    "#... ENTER YOUR CODE AND COMMENTS HERE ...\n",
    "\n",
    "def f1(x):\n",
    "    return x**2\n",
    "\n",
    "Truth = (2**3 - 1)/3  # истинное значение для итнеграла от x**2 от 1 до 2\n",
    "\n",
    "Con = []\n",
    "Num = []\n",
    "Eps = [1e-4, 1e-5, 1e-6, 1e-7, 1e-8, 1e-9, 1e-10, 1e-11]\n",
    "for eps in Eps:\n",
    "    I, n = midpoint_rule(f1, 1, 2, eps)\n",
    "    Con.append(np.abs(I-Truth))             # смотрю на разные точности, считаю ошибку от истинного значения Truth\n",
    "    Num.append(n**-1)\n",
    "\n",
    "fig, ax = plt.subplots(ncols=3, figsize=(15,6))\n",
    "\n",
    "ax[0].set(yscale='log', title='Error', xlabel='accuracy')\n",
    "ax[1].set(yscale='log', title='Number of intervals N**-1', xlabel='accuracy')\n",
    "ax[0].set_xticklabels([0] + Eps)\n",
    "ax[1].set_xticklabels([0] + Eps)  # почему-то он отказывается видеть первый элемент массива для замены тиков на оси, поэтому добавляю dummy 0\n",
    "\n",
    "ax[0].plot(range(8), Con)\n",
    "ax[1].plot(range(8), Num)\n",
    "\n",
    "\n",
    "#можно увидеть, что O(n**-2) ~ 0.0.8 * N**-2:\n",
    "const = np.mean([Con[i] / Num[i]**2 for i in range(len(Num))])\n",
    "print('Коэффициент пропорциональности error от N**-2  = ', const)\n",
    "\n",
    "ax[2].set(yscale='log', title='O(N**-2)', xlabel='accuracy')\n",
    "ax[2].set_xticklabels([0] + Eps)\n",
    "\n",
    "Scaled = [const * x**2 for x in Num]\n",
    "ax[2].plot(range(8), Scaled)\n",
    "\n",
    "plt.show()"
   ]
  },
  {
   "cell_type": "markdown",
   "metadata": {},
   "source": [
    "Можем увидеть, что сходится примерно как $ N^{-2} $"
   ]
  },
  {
   "cell_type": "markdown",
   "metadata": {},
   "source": [
    "### Test II.2\n",
    "\n",
    "Now use your midpoint rule to compute the value of\n",
    "\n",
    "$$\n",
    "\\int_0^1\\! \\frac{\\sin{\\sqrt{x}}}{x}\\, dx\n",
    "$$\n",
    "\n",
    "up to a predefined accuracy of $\\epsilon=10^{-4}$.\n",
    "\n",
    "Note that the integral contains an integrable singularity at the lower limit. Do calculations two ways: first, do a straightforward computation; next, subtract the singularity. Compare the number of iterations required to achieve the accuracy of $\\epsilon$.\n",
    "\n",
    "(30% of the total grade)"
   ]
  },
  {
   "cell_type": "code",
   "execution_count": 120,
   "metadata": {
    "scrolled": true
   },
   "outputs": [
    {
     "name": "stdout",
     "output_type": "stream",
     "text": [
      "1.8918319782852722 3276800\n",
      "1.8921562911949747 100\n"
     ]
    }
   ],
   "source": [
    "# ... ENTER YOUR CODE HERE ...\n",
    "\n",
    "acc = 1e-4\n",
    "#straightforward:\n",
    "def garbo(x):\n",
    "    return np.sin(x**0.5)/x\n",
    "Integral, a_lot = midpoint_rule(garbo, 0, 1, acc)\n",
    "print(Integral, a_lot)\n",
    "\n",
    "#avoiding singularity:\n",
    "def non_singular(x):\n",
    "    if np.abs(x) <= 1e-8:\n",
    "        return 0\n",
    "    else:\n",
    "        return np.sin(x**0.5)/x - 1/x**0.5\n",
    "\n",
    "Easy_part = 2 # интеграл от 1/x**0.5\n",
    "Non_singular, N = midpoint_rule(non_singular, 0, 1, acc)\n",
    "I = Easy_part + Non_singular\n",
    "print(I, N)"
   ]
  },
  {
   "cell_type": "markdown",
   "metadata": {
    "collapsed": true
   },
   "source": [
    "Судя по кол-ву узлов сетки, стоит задумываться о сингулярностях в интегралах и устранять их ручками перед вычислением"
   ]
  },
  {
   "cell_type": "code",
   "execution_count": null,
   "metadata": {},
   "outputs": [],
   "source": []
  }
 ],
 "metadata": {
  "kernelspec": {
   "display_name": "Python 3",
   "language": "python",
   "name": "python3"
  },
  "language_info": {
   "codemirror_mode": {
    "name": "ipython",
    "version": 3
   },
   "file_extension": ".py",
   "mimetype": "text/x-python",
   "name": "python",
   "nbconvert_exporter": "python",
   "pygments_lexer": "ipython3",
   "version": "3.7.1"
  }
 },
 "nbformat": 4,
 "nbformat_minor": 2
}
