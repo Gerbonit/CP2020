{
 "cells": [
  {
   "cell_type": "markdown",
   "metadata": {},
   "source": [
    "Compute integrals of the form\n",
    "\n",
    "$$\n",
    "I_n = \\int_0^1 x^n e^{1-x}\\, dx\\;.\n",
    "$$\n",
    "\n",
    "Integrating by parts, we obtain a recurrence relation\n",
    "\n",
    "$$\n",
    "I_n = n I_{n-1} - 1 \\;,\n",
    "$$\n",
    "\n",
    "with the initial condition\n",
    "\n",
    "$$\n",
    "I_0 = e - 1\\;.\n",
    "$$"
   ]
  },
  {
   "cell_type": "markdown",
   "metadata": {},
   "source": [
    "These integrals can be computed using symbolic maths with `sympy`:"
   ]
  },
  {
   "cell_type": "code",
   "execution_count": null,
   "metadata": {
    "collapsed": true
   },
   "outputs": [],
   "source": [
    "import sympy\n",
    "x = sympy.Symbol('x')\n",
    "N = 25\n",
    "exact = [float(sympy.integrate(x**n * sympy.exp(1 - x), (x, 0, 1))) for n in range(N)]"
   ]
  },
  {
   "cell_type": "markdown",
   "metadata": {},
   "source": [
    "Use the recurrence relation to compute these integrals  from $n=0$ up to $n = 24$ inclusive. \n",
    "\n",
    "\n",
    "First, use the upwards recursion, from $n=1$ upwards. Your code below must product a list of the 25 values of the integrals."
   ]
  },
  {
   "cell_type": "code",
   "execution_count": null,
   "metadata": {
    "collapsed": true
   },
   "outputs": [],
   "source": [
    "def upwards_recursion(n):\n",
    "    e = 2.71828\n",
    "    I = [0]*(n+1)\n",
    "    I[0] = e - 1\n",
    "    for i in range(n):\n",
    "        I[i+1] = (i+1)*I[i] - 1\n",
    "    return I"
   ]
  },
  {
   "cell_type": "markdown",
   "metadata": {},
   "source": [
    "Compare your results with the exact values. Discuss"
   ]
  },
  {
   "cell_type": "code",
   "execution_count": null,
   "metadata": {
    "collapsed": true
   },
   "outputs": [],
   "source": [
    "values = upwards_recursion(25)\n",
    "for value, exact_value in zip(values, exact):\n",
    "    print(value, exact)\n",
    "\n",
    "from numpy.testing import assert_allclose\n",
    "assert_allclose(values, exact)"
   ]
  },
  {
   "cell_type": "code",
   "execution_count": null,
   "metadata": {
    "collapsed": true
   },
   "outputs": [],
   "source": [
    "# ENTER YOUR CONCLUSION HERE",
    "Не важно какую точность е выберем, из-за отрезания части у нас пропадает часть интеграла и всё сваливается в -"
   ]
  },
  {
   "cell_type": "markdown",
   "metadata": {},
   "source": [
    "Next, use the downwards recursion. Your code below must produce a list of the 25 values of the integrals, from 0 to 24."
   ]
  },
  {
   "cell_type": "code",
   "execution_count": null,
   "metadata": {
    "collapsed": true
   },
   "outputs": [],
   "source": [
    "def downwards_recursion(n):\n",
    "    I = [0]*(n+1001)\n",
    "    I[-1] = 0\n",
    "    for i in range(n+1000)[::-1]:\n",
    "        I[i] = (I[i+1] + 1) / (i+1)\n",
    "    return I[0:n]"
   ]
  },
  {
   "cell_type": "markdown",
   "metadata": {
    "collapsed": true
   },
   "source": [
    "Repeat the comparison with the exact values. Discuss."
   ]
  },
  {
   "cell_type": "code",
   "execution_count": 1,
   "metadata": {
    "collapsed": true
   },
   "outputs": [],
   "source": [
    "# ENTER YOUR COMPARISON HERE",
    "Разность появляется в I_12, например, в 17 знаке после запятой, ну и ухода в минус конечно нет"
   ]
  }
 ],
 "metadata": {
  "kernelspec": {
   "display_name": "Python 3",
   "language": "python",
   "name": "python3"
  },
  "language_info": {
   "codemirror_mode": {
    "name": "ipython",
    "version": 3
   },
   "file_extension": ".py",
   "mimetype": "text/x-python",
   "name": "python",
   "nbconvert_exporter": "python",
   "pygments_lexer": "ipython3",
   "version": "3.5.2"
  }
 },
 "nbformat": 4,
 "nbformat_minor": 2
}
